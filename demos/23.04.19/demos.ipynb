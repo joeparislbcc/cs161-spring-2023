{
 "cells": [
  {
   "cell_type": "code",
   "execution_count": 2,
   "metadata": {},
   "outputs": [
    {
     "name": "stdout",
     "output_type": "stream",
     "text": [
      "Hello\n",
      "\n",
      "my \n",
      "\n",
      "name\n",
      "\n",
      "is                                  Joe\n"
     ]
    }
   ],
   "source": [
    "my_string = \"\"\"Hello\n",
    "\n",
    "my \n",
    "\n",
    "name\n",
    "\n",
    "is                                  Joe\"\"\"\n",
    "\n",
    "\n",
    "print(my_string)"
   ]
  },
  {
   "cell_type": "code",
   "execution_count": 3,
   "metadata": {},
   "outputs": [],
   "source": [
    "part_a = \"Hello\"\n",
    "part_b = \" World\"\n",
    "part_a += part_b"
   ]
  },
  {
   "cell_type": "code",
   "execution_count": 4,
   "metadata": {},
   "outputs": [
    {
     "name": "stdout",
     "output_type": "stream",
     "text": [
      "Hello World\n"
     ]
    }
   ],
   "source": [
    "print(part_a)"
   ]
  },
  {
   "cell_type": "code",
   "execution_count": 5,
   "metadata": {},
   "outputs": [],
   "source": [
    "import string"
   ]
  },
  {
   "cell_type": "code",
   "execution_count": 7,
   "metadata": {},
   "outputs": [
    {
     "data": {
      "text/plain": [
       "False"
      ]
     },
     "execution_count": 7,
     "metadata": {},
     "output_type": "execute_result"
    }
   ],
   "source": [
    "\"a\" in string.ascii_uppercase"
   ]
  },
  {
   "cell_type": "code",
   "execution_count": 8,
   "metadata": {},
   "outputs": [],
   "source": [
    "answer = 42"
   ]
  },
  {
   "cell_type": "code",
   "execution_count": 11,
   "metadata": {},
   "outputs": [
    {
     "name": "stdout",
     "output_type": "stream",
     "text": [
      "The answer is 42 .\n"
     ]
    }
   ],
   "source": [
    "print(\"The answer is\",answer,\".\")"
   ]
  },
  {
   "cell_type": "code",
   "execution_count": 13,
   "metadata": {},
   "outputs": [
    {
     "name": "stdout",
     "output_type": "stream",
     "text": [
      "The answer is 42.\n"
     ]
    }
   ],
   "source": [
    "print(\"The answer is {}.\".format(answer))"
   ]
  },
  {
   "cell_type": "code",
   "execution_count": 14,
   "metadata": {},
   "outputs": [],
   "source": [
    "count = 37"
   ]
  },
  {
   "cell_type": "code",
   "execution_count": 15,
   "metadata": {},
   "outputs": [
    {
     "name": "stdout",
     "output_type": "stream",
     "text": [
      "The answer is 42 and the count was 37!\n"
     ]
    }
   ],
   "source": [
    "print(\"The answer is {} and the count was {}!\".format(answer, count))"
   ]
  },
  {
   "cell_type": "code",
   "execution_count": 16,
   "metadata": {},
   "outputs": [
    {
     "name": "stdout",
     "output_type": "stream",
     "text": [
      "The answer is 37 and the count was 42!\n"
     ]
    }
   ],
   "source": [
    "print(\"The answer is {1} and the count was {0}!\".format(answer, count))"
   ]
  },
  {
   "cell_type": "code",
   "execution_count": 18,
   "metadata": {},
   "outputs": [
    {
     "name": "stdout",
     "output_type": "stream",
     "text": [
      "The answer is         42 and the count was         37!\n"
     ]
    }
   ],
   "source": [
    "print(\"The answer is {0:>10} and the count was {1:>10}!\".format(answer, count))"
   ]
  },
  {
   "cell_type": "code",
   "execution_count": 23,
   "metadata": {},
   "outputs": [
    {
     "name": "stdout",
     "output_type": "stream",
     "text": [
      "1    2    3    4    5    6    7    8    9    10   11   12   \n",
      "2    4    6    8    10   12   14   16   18   20   22   24   \n",
      "3    6    9    12   15   18   21   24   27   30   33   36   \n",
      "4    8    12   16   20   24   28   32   36   40   44   48   \n",
      "5    10   15   20   25   30   35   40   45   50   55   60   \n",
      "6    12   18   24   30   36   42   48   54   60   66   72   \n",
      "7    14   21   28   35   42   49   56   63   70   77   84   \n",
      "8    16   24   32   40   48   56   64   72   80   88   96   \n",
      "9    18   27   36   45   54   63   72   81   90   99   108  \n",
      "10   20   30   40   50   60   70   80   90   100  110  120  \n",
      "11   22   33   44   55   66   77   88   99   110  121  132  \n",
      "12   24   36   48   60   72   84   96   108  120  132  144  \n"
     ]
    }
   ],
   "source": [
    "for col in range(1, 13):\n",
    "    for row in range(1, 13):\n",
    "        print(\"{:<3}  \".format(col*row), end=\"\")\n",
    "    print()"
   ]
  },
  {
   "cell_type": "code",
   "execution_count": 25,
   "metadata": {},
   "outputs": [
    {
     "name": "stdout",
     "output_type": "stream",
     "text": [
      "  1    2    3    4    5    6    7    8    9   10   11   12  \n",
      "  2    4    6    8   10   12   14   16   18   20   22   24  \n",
      "  3    6    9   12   15   18   21   24   27   30   33   36  \n",
      "  4    8   12   16   20   24   28   32   36   40   44   48  \n",
      "  5   10   15   20   25   30   35   40   45   50   55   60  \n",
      "  6   12   18   24   30   36   42   48   54   60   66   72  \n",
      "  7   14   21   28   35   42   49   56   63   70   77   84  \n",
      "  8   16   24   32   40   48   56   64   72   80   88   96  \n",
      "  9   18   27   36   45   54   63   72   81   90   99  108  \n",
      " 10   20   30   40   50   60   70   80   90  100  110  120  \n",
      " 11   22   33   44   55   66   77   88   99  110  121  132  \n",
      " 12   24   36   48   60   72   84   96  108  120  132  144  \n"
     ]
    }
   ],
   "source": [
    "for col in range(1, 13):\n",
    "    for row in range(1, 13):\n",
    "        # print(\"{:<3}  \".format(col*row), end=\"\")\n",
    "        print(f\"{col*row:>3}  \", end=\"\")\n",
    "    print()"
   ]
  },
  {
   "cell_type": "code",
   "execution_count": 27,
   "metadata": {},
   "outputs": [
    {
     "name": "stdout",
     "output_type": "stream",
     "text": [
      "The answer is 42 and the count was 37!\n"
     ]
    }
   ],
   "source": [
    "print(f\"The answer is {answer} and the count was {count}!\")"
   ]
  },
  {
   "cell_type": "code",
   "execution_count": 28,
   "metadata": {},
   "outputs": [
    {
     "data": {
      "text/plain": [
       "3"
      ]
     },
     "execution_count": 28,
     "metadata": {},
     "output_type": "execute_result"
    }
   ],
   "source": [
    "name = \"Joe\"\n",
    "len(name)"
   ]
  },
  {
   "cell_type": "code",
   "execution_count": 29,
   "metadata": {},
   "outputs": [
    {
     "data": {
      "text/plain": [
       "True"
      ]
     },
     "execution_count": 29,
     "metadata": {},
     "output_type": "execute_result"
    }
   ],
   "source": [
    "\"J\" in name"
   ]
  },
  {
   "cell_type": "code",
   "execution_count": 30,
   "metadata": {},
   "outputs": [
    {
     "data": {
      "text/plain": [
       "False"
      ]
     },
     "execution_count": 30,
     "metadata": {},
     "output_type": "execute_result"
    }
   ],
   "source": [
    "\"q\" in name"
   ]
  },
  {
   "cell_type": "code",
   "execution_count": 44,
   "metadata": {},
   "outputs": [],
   "source": [
    "quote=\"Alright, but apart from the sanitation, the medicine, education, wine, public order, irrigation, roads, the fresh-water system, and public health, what have the Romans ever done for us?\""
   ]
  },
  {
   "cell_type": "code",
   "execution_count": 33,
   "metadata": {},
   "outputs": [
    {
     "data": {
      "text/plain": [
       "'Alright, but apart from the sanitation, the medicine, education, wine, public order, irrigation, roads, the fresh-water system, and public health, what have the Romans ever done for us?'"
      ]
     },
     "execution_count": 33,
     "metadata": {},
     "output_type": "execute_result"
    }
   ],
   "source": [
    "quote"
   ]
  },
  {
   "cell_type": "code",
   "execution_count": 37,
   "metadata": {},
   "outputs": [
    {
     "name": "stdout",
     "output_type": "stream",
     "text": [
      ", is punctuation.\n",
      ", is punctuation.\n",
      ", is punctuation.\n",
      ", is punctuation.\n",
      ", is punctuation.\n",
      ", is punctuation.\n",
      ", is punctuation.\n",
      ", is punctuation.\n",
      "- is punctuation.\n",
      ", is punctuation.\n",
      ", is punctuation.\n",
      "? is punctuation.\n"
     ]
    }
   ],
   "source": [
    "for character in quote:\n",
    "    if character in string.punctuation:\n",
    "        print(f\"{character} is punctuation.\")"
   ]
  },
  {
   "cell_type": "code",
   "execution_count": 38,
   "metadata": {},
   "outputs": [
    {
     "data": {
      "text/plain": [
       "'!\"#$%&\\'()*+,-./:;<=>?@[\\\\]^_`{|}~'"
      ]
     },
     "execution_count": 38,
     "metadata": {},
     "output_type": "execute_result"
    }
   ],
   "source": [
    "string.punctuation"
   ]
  },
  {
   "cell_type": "code",
   "execution_count": 52,
   "metadata": {},
   "outputs": [
    {
     "data": {
      "text/plain": [
       "['Alright,',\n",
       " 'but',\n",
       " 'apart',\n",
       " 'from',\n",
       " 'the',\n",
       " 'sanitation,',\n",
       " 'the',\n",
       " 'medicine,',\n",
       " 'education,',\n",
       " 'wine,',\n",
       " 'public',\n",
       " 'order,',\n",
       " 'irrigation,',\n",
       " 'roads,',\n",
       " 'the',\n",
       " 'fresh-water',\n",
       " 'system,',\n",
       " 'and',\n",
       " 'public',\n",
       " 'health,',\n",
       " 'what',\n",
       " 'have',\n",
       " 'the',\n",
       " 'Romans',\n",
       " 'ever',\n",
       " 'done',\n",
       " 'for',\n",
       " 'us?']"
      ]
     },
     "execution_count": 52,
     "metadata": {},
     "output_type": "execute_result"
    }
   ],
   "source": [
    "quote.split()"
   ]
  },
  {
   "cell_type": "code",
   "execution_count": 45,
   "metadata": {},
   "outputs": [
    {
     "data": {
      "text/plain": [
       "'Alright, but apart from the sanitation, the medicine, education, wine, public order, irrigation, roads, the fresh-water system, and public health, what have the Romans ever done for us?'"
      ]
     },
     "execution_count": 45,
     "metadata": {},
     "output_type": "execute_result"
    }
   ],
   "source": [
    "quote"
   ]
  },
  {
   "cell_type": "code",
   "execution_count": 53,
   "metadata": {},
   "outputs": [
    {
     "data": {
      "text/plain": [
       "'Alright, but apart from the sanitation, the medicine, education, wine, public order, irrigation, roads, the fresh-water system, and public health, what have the Romans ever done for us?'"
      ]
     },
     "execution_count": 53,
     "metadata": {},
     "output_type": "execute_result"
    }
   ],
   "source": [
    "quote"
   ]
  },
  {
   "cell_type": "code",
   "execution_count": 63,
   "metadata": {},
   "outputs": [
    {
     "data": {
      "text/plain": [
       "'Argt u pr '"
      ]
     },
     "execution_count": 63,
     "metadata": {},
     "output_type": "execute_result"
    }
   ],
   "source": [
    "quote[0:20:2]"
   ]
  },
  {
   "cell_type": "code",
   "execution_count": 62,
   "metadata": {},
   "outputs": [
    {
     "name": "stdout",
     "output_type": "stream",
     "text": [
      "Paris Joe \n"
     ]
    }
   ],
   "source": [
    "name = \"Joe Paris\"\n",
    "print(name[4:], name[:4])"
   ]
  },
  {
   "cell_type": "code",
   "execution_count": 66,
   "metadata": {},
   "outputs": [],
   "source": [
    "last_first = name[4:] + \", \" + name[:4]"
   ]
  },
  {
   "cell_type": "code",
   "execution_count": 67,
   "metadata": {},
   "outputs": [
    {
     "data": {
      "text/plain": [
       "'Paris, Joe '"
      ]
     },
     "execution_count": 67,
     "metadata": {},
     "output_type": "execute_result"
    }
   ],
   "source": [
    "last_first"
   ]
  },
  {
   "cell_type": "code",
   "execution_count": 69,
   "metadata": {},
   "outputs": [
    {
     "data": {
      "text/plain": [
       "'Joe Paris'"
      ]
     },
     "execution_count": 69,
     "metadata": {},
     "output_type": "execute_result"
    }
   ],
   "source": [
    "name"
   ]
  },
  {
   "cell_type": "code",
   "execution_count": 70,
   "metadata": {},
   "outputs": [],
   "source": [
    "name = name[4:] + \", \" + name[:4]"
   ]
  },
  {
   "cell_type": "code",
   "execution_count": 71,
   "metadata": {},
   "outputs": [
    {
     "data": {
      "text/plain": [
       "'Paris, Joe '"
      ]
     },
     "execution_count": 71,
     "metadata": {},
     "output_type": "execute_result"
    }
   ],
   "source": [
    "name"
   ]
  },
  {
   "cell_type": "code",
   "execution_count": 73,
   "metadata": {},
   "outputs": [
    {
     "name": "stdout",
     "output_type": "stream",
     "text": [
      "Character 1 is a A\n",
      "Character 2 is a l\n",
      "Character 3 is a r\n",
      "Character 4 is a i\n",
      "Character 5 is a g\n",
      "Character 6 is a h\n",
      "Character 7 is a t\n",
      "Character 8 is a ,\n",
      "Character 9 is a  \n",
      "Character 10 is a b\n",
      "Character 11 is a u\n",
      "Character 12 is a t\n",
      "Character 13 is a  \n",
      "Character 14 is a a\n",
      "Character 15 is a p\n",
      "Character 16 is a a\n",
      "Character 17 is a r\n",
      "Character 18 is a t\n",
      "Character 19 is a  \n",
      "Character 20 is a f\n",
      "Character 21 is a r\n",
      "Character 22 is a o\n",
      "Character 23 is a m\n",
      "Character 24 is a  \n",
      "Character 25 is a t\n",
      "Character 26 is a h\n",
      "Character 27 is a e\n",
      "Character 28 is a  \n",
      "Character 29 is a s\n",
      "Character 30 is a a\n",
      "Character 31 is a n\n",
      "Character 32 is a i\n",
      "Character 33 is a t\n",
      "Character 34 is a a\n",
      "Character 35 is a t\n",
      "Character 36 is a i\n",
      "Character 37 is a o\n",
      "Character 38 is a n\n",
      "Character 39 is a ,\n",
      "Character 40 is a  \n",
      "Character 41 is a t\n",
      "Character 42 is a h\n",
      "Character 43 is a e\n",
      "Character 44 is a  \n",
      "Character 45 is a m\n",
      "Character 46 is a e\n",
      "Character 47 is a d\n",
      "Character 48 is a i\n",
      "Character 49 is a c\n",
      "Character 50 is a i\n",
      "Character 51 is a n\n",
      "Character 52 is a e\n",
      "Character 53 is a ,\n",
      "Character 54 is a  \n",
      "Character 55 is a e\n",
      "Character 56 is a d\n",
      "Character 57 is a u\n",
      "Character 58 is a c\n",
      "Character 59 is a a\n",
      "Character 60 is a t\n",
      "Character 61 is a i\n",
      "Character 62 is a o\n",
      "Character 63 is a n\n",
      "Character 64 is a ,\n",
      "Character 65 is a  \n",
      "Character 66 is a w\n",
      "Character 67 is a i\n",
      "Character 68 is a n\n",
      "Character 69 is a e\n",
      "Character 70 is a ,\n",
      "Character 71 is a  \n",
      "Character 72 is a p\n",
      "Character 73 is a u\n",
      "Character 74 is a b\n",
      "Character 75 is a l\n",
      "Character 76 is a i\n",
      "Character 77 is a c\n",
      "Character 78 is a  \n",
      "Character 79 is a o\n",
      "Character 80 is a r\n",
      "Character 81 is a d\n",
      "Character 82 is a e\n",
      "Character 83 is a r\n",
      "Character 84 is a ,\n",
      "Character 85 is a  \n",
      "Character 86 is a i\n",
      "Character 87 is a r\n",
      "Character 88 is a r\n",
      "Character 89 is a i\n",
      "Character 90 is a g\n",
      "Character 91 is a a\n",
      "Character 92 is a t\n",
      "Character 93 is a i\n",
      "Character 94 is a o\n",
      "Character 95 is a n\n",
      "Character 96 is a ,\n",
      "Character 97 is a  \n",
      "Character 98 is a r\n",
      "Character 99 is a o\n",
      "Character 100 is a a\n",
      "Character 101 is a d\n",
      "Character 102 is a s\n",
      "Character 103 is a ,\n",
      "Character 104 is a  \n",
      "Character 105 is a t\n",
      "Character 106 is a h\n",
      "Character 107 is a e\n",
      "Character 108 is a  \n",
      "Character 109 is a f\n",
      "Character 110 is a r\n",
      "Character 111 is a e\n",
      "Character 112 is a s\n",
      "Character 113 is a h\n",
      "Character 114 is a -\n",
      "Character 115 is a w\n",
      "Character 116 is a a\n",
      "Character 117 is a t\n",
      "Character 118 is a e\n",
      "Character 119 is a r\n",
      "Character 120 is a  \n",
      "Character 121 is a s\n",
      "Character 122 is a y\n",
      "Character 123 is a s\n",
      "Character 124 is a t\n",
      "Character 125 is a e\n",
      "Character 126 is a m\n",
      "Character 127 is a ,\n",
      "Character 128 is a  \n",
      "Character 129 is a a\n",
      "Character 130 is a n\n",
      "Character 131 is a d\n",
      "Character 132 is a  \n",
      "Character 133 is a p\n",
      "Character 134 is a u\n",
      "Character 135 is a b\n",
      "Character 136 is a l\n",
      "Character 137 is a i\n",
      "Character 138 is a c\n",
      "Character 139 is a  \n",
      "Character 140 is a h\n",
      "Character 141 is a e\n",
      "Character 142 is a a\n",
      "Character 143 is a l\n",
      "Character 144 is a t\n",
      "Character 145 is a h\n",
      "Character 146 is a ,\n",
      "Character 147 is a  \n",
      "Character 148 is a w\n",
      "Character 149 is a h\n",
      "Character 150 is a a\n",
      "Character 151 is a t\n",
      "Character 152 is a  \n",
      "Character 153 is a h\n",
      "Character 154 is a a\n",
      "Character 155 is a v\n",
      "Character 156 is a e\n",
      "Character 157 is a  \n",
      "Character 158 is a t\n",
      "Character 159 is a h\n",
      "Character 160 is a e\n",
      "Character 161 is a  \n",
      "Character 162 is a R\n",
      "Character 163 is a o\n",
      "Character 164 is a m\n",
      "Character 165 is a a\n",
      "Character 166 is a n\n",
      "Character 167 is a s\n",
      "Character 168 is a  \n",
      "Character 169 is a e\n",
      "Character 170 is a v\n",
      "Character 171 is a e\n",
      "Character 172 is a r\n",
      "Character 173 is a  \n",
      "Character 174 is a d\n",
      "Character 175 is a o\n",
      "Character 176 is a n\n",
      "Character 177 is a e\n",
      "Character 178 is a  \n",
      "Character 179 is a f\n",
      "Character 180 is a o\n",
      "Character 181 is a r\n",
      "Character 182 is a  \n",
      "Character 183 is a u\n",
      "Character 184 is a s\n",
      "Character 185 is a ?\n"
     ]
    }
   ],
   "source": [
    "for index, character in enumerate(quote):\n",
    "    print(f\"Character {index + 1} is a {character}\")"
   ]
  },
  {
   "cell_type": "code",
   "execution_count": null,
   "metadata": {},
   "outputs": [],
   "source": []
  }
 ],
 "metadata": {
  "kernelspec": {
   "display_name": ".venv",
   "language": "python",
   "name": "python3"
  },
  "language_info": {
   "codemirror_mode": {
    "name": "ipython",
    "version": 3
   },
   "file_extension": ".py",
   "mimetype": "text/x-python",
   "name": "python",
   "nbconvert_exporter": "python",
   "pygments_lexer": "ipython3",
   "version": "3.11.1"
  },
  "orig_nbformat": 4
 },
 "nbformat": 4,
 "nbformat_minor": 2
}
