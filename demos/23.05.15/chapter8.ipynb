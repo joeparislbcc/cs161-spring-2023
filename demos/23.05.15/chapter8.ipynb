{
 "cells": [
  {
   "attachments": {},
   "cell_type": "markdown",
   "metadata": {},
   "source": [
    "## The local assignment rule\n",
    "\n",
    "If an assignment is made anywhere inside a function, that assignment *creates a new name* in the current namespace."
   ]
  },
  {
   "cell_type": "code",
   "execution_count": 1,
   "metadata": {},
   "outputs": [
    {
     "name": "stdout",
     "output_type": "stream",
     "text": [
      "key param1: 123456\n",
      "key param2: spam\n"
     ]
    },
    {
     "ename": "UnboundLocalError",
     "evalue": "cannot access local variable 'some_var' where it is not associated with a value",
     "output_type": "error",
     "traceback": [
      "\u001b[0;31m---------------------------------------------------------------------------\u001b[0m",
      "\u001b[0;31mUnboundLocalError\u001b[0m                         Traceback (most recent call last)",
      "Cell \u001b[0;32mIn[1], line 11\u001b[0m\n\u001b[1;32m      7\u001b[0m     some_var \u001b[39m=\u001b[39m some_var \u001b[39m+\u001b[39m \u001b[39m1\u001b[39m\n\u001b[1;32m      8\u001b[0m     \u001b[39mprint\u001b[39m(some_var)\n\u001b[0;32m---> 11\u001b[0m some_func(\u001b[39m123456\u001b[39;49m, \u001b[39m\"\u001b[39;49m\u001b[39mspam\u001b[39;49m\u001b[39m\"\u001b[39;49m)\n",
      "Cell \u001b[0;32mIn[1], line 7\u001b[0m, in \u001b[0;36msome_func\u001b[0;34m(param1, param2)\u001b[0m\n\u001b[1;32m      5\u001b[0m \u001b[39mfor\u001b[39;00m key, val \u001b[39min\u001b[39;00m \u001b[39mlocals\u001b[39m()\u001b[39m.\u001b[39mitems():\n\u001b[1;32m      6\u001b[0m     \u001b[39mprint\u001b[39m(\u001b[39mf\u001b[39m\u001b[39m\"\u001b[39m\u001b[39mkey \u001b[39m\u001b[39m{\u001b[39;00mkey\u001b[39m}\u001b[39;00m\u001b[39m: \u001b[39m\u001b[39m{\u001b[39;00mval\u001b[39m}\u001b[39;00m\u001b[39m\"\u001b[39m)\n\u001b[0;32m----> 7\u001b[0m some_var \u001b[39m=\u001b[39m some_var \u001b[39m+\u001b[39m \u001b[39m1\u001b[39m\n\u001b[1;32m      8\u001b[0m \u001b[39mprint\u001b[39m(some_var)\n",
      "\u001b[0;31mUnboundLocalError\u001b[0m: cannot access local variable 'some_var' where it is not associated with a value"
     ]
    }
   ],
   "source": [
    "some_var = 27\n",
    "\n",
    "\n",
    "def some_func(param1=123, param2=\"Python\"):\n",
    "    for key, val in locals().items():\n",
    "        print(f\"key {key}: {val}\")\n",
    "    some_var = some_var + 1\n",
    "    print(some_var)\n",
    "\n",
    "\n",
    "some_func(123456, \"spam\")"
   ]
  },
  {
   "attachments": {},
   "cell_type": "markdown",
   "metadata": {},
   "source": [
    "## The `global` statement\n",
    "\n",
    "`global` allows an identifier declared in an outer namespace to be made visible in the current one."
   ]
  },
  {
   "cell_type": "code",
   "execution_count": 3,
   "metadata": {},
   "outputs": [
    {
     "name": "stdout",
     "output_type": "stream",
     "text": [
      "27\n",
      "key param1: 123456\n",
      "key param2: spam\n",
      "28\n",
      "28\n"
     ]
    }
   ],
   "source": [
    "some_var = 27\n",
    "\n",
    "\n",
    "def some_func(param1=123, param2=\"Python\"):\n",
    "    global some_var\n",
    "    for key, val in locals().items():\n",
    "        print(f\"key {key}: {val}\")\n",
    "    some_var = some_var + 1\n",
    "    print(some_var)\n",
    "\n",
    "\n",
    "print(some_var)\n",
    "some_func(123456, \"spam\")\n",
    "print(some_var)"
   ]
  },
  {
   "attachments": {},
   "cell_type": "markdown",
   "metadata": {},
   "source": [
    "However, it is still best practice to avoid global variables. [Global Variables are Evil](https://www.cs.usfca.edu/~wolber/courses/110/lectures/globals.htm)"
   ]
  },
  {
   "attachments": {},
   "cell_type": "markdown",
   "metadata": {},
   "source": [
    "## Built-Ins"
   ]
  },
  {
   "cell_type": "code",
   "execution_count": 4,
   "metadata": {},
   "outputs": [
    {
     "name": "stdout",
     "output_type": "stream",
     "text": [
      "The built-ins dictionary has 160 entries.\n",
      "key:: __name__                 , val:: builtins\n",
      "key:: __doc__                  , val:: Built-in functions, exceptions, and other objects.\n",
      "\n",
      "Noteworthy: None is the `nil' object; Ellipsis represents `...' in slices.\n",
      "key:: __package__              , val:: \n",
      "key:: __loader__               , val:: <class '_frozen_importlib.BuiltinImporter'>\n",
      "key:: __spec__                 , val:: ModuleSpec(name='builtins', loader=<class '_frozen_importlib.BuiltinImporter'>, origin='built-in')\n",
      "key:: __build_class__          , val:: <built-in function __build_class__>\n",
      "key:: __import__               , val:: <built-in function __import__>\n",
      "key:: abs                      , val:: <built-in function abs>\n",
      "key:: all                      , val:: <built-in function all>\n",
      "key:: any                      , val:: <built-in function any>\n",
      "key:: ascii                    , val:: <built-in function ascii>\n",
      "key:: bin                      , val:: <built-in function bin>\n",
      "key:: breakpoint               , val:: <built-in function breakpoint>\n",
      "key:: callable                 , val:: <built-in function callable>\n",
      "key:: chr                      , val:: <built-in function chr>\n",
      "key:: compile                  , val:: <built-in function compile>\n",
      "key:: delattr                  , val:: <built-in function delattr>\n",
      "key:: dir                      , val:: <built-in function dir>\n",
      "key:: divmod                   , val:: <built-in function divmod>\n",
      "key:: eval                     , val:: <built-in function eval>\n",
      "key:: exec                     , val:: <built-in function exec>\n",
      "key:: format                   , val:: <built-in function format>\n",
      "key:: getattr                  , val:: <built-in function getattr>\n",
      "key:: globals                  , val:: <built-in function globals>\n",
      "key:: hasattr                  , val:: <built-in function hasattr>\n",
      "key:: hash                     , val:: <built-in function hash>\n",
      "key:: hex                      , val:: <built-in function hex>\n",
      "key:: id                       , val:: <built-in function id>\n",
      "key:: input                    , val:: <bound method Kernel.raw_input of <ipykernel.ipkernel.IPythonKernel object at 0x7f4a06495690>>\n",
      "key:: isinstance               , val:: <built-in function isinstance>\n",
      "key:: issubclass               , val:: <built-in function issubclass>\n",
      "key:: iter                     , val:: <built-in function iter>\n",
      "key:: aiter                    , val:: <built-in function aiter>\n",
      "key:: len                      , val:: <built-in function len>\n",
      "key:: locals                   , val:: <built-in function locals>\n",
      "key:: max                      , val:: <built-in function max>\n",
      "key:: min                      , val:: <built-in function min>\n",
      "key:: next                     , val:: <built-in function next>\n",
      "key:: anext                    , val:: <built-in function anext>\n",
      "key:: oct                      , val:: <built-in function oct>\n",
      "key:: ord                      , val:: <built-in function ord>\n",
      "key:: pow                      , val:: <built-in function pow>\n",
      "key:: print                    , val:: <built-in function print>\n",
      "key:: repr                     , val:: <built-in function repr>\n",
      "key:: round                    , val:: <built-in function round>\n",
      "key:: setattr                  , val:: <built-in function setattr>\n",
      "key:: sorted                   , val:: <built-in function sorted>\n",
      "key:: sum                      , val:: <built-in function sum>\n",
      "key:: vars                     , val:: <built-in function vars>\n",
      "key:: None                     , val:: None\n",
      "key:: Ellipsis                 , val:: Ellipsis\n",
      "key:: NotImplemented           , val:: NotImplemented\n",
      "key:: False                    , val:: False\n",
      "key:: True                     , val:: True\n",
      "key:: bool                     , val:: <class 'bool'>\n",
      "key:: memoryview               , val:: <class 'memoryview'>\n",
      "key:: bytearray                , val:: <class 'bytearray'>\n",
      "key:: bytes                    , val:: <class 'bytes'>\n",
      "key:: classmethod              , val:: <class 'classmethod'>\n",
      "key:: complex                  , val:: <class 'complex'>\n",
      "key:: dict                     , val:: <class 'dict'>\n",
      "key:: enumerate                , val:: <class 'enumerate'>\n",
      "key:: filter                   , val:: <class 'filter'>\n",
      "key:: float                    , val:: <class 'float'>\n",
      "key:: frozenset                , val:: <class 'frozenset'>\n",
      "key:: property                 , val:: <class 'property'>\n",
      "key:: int                      , val:: <class 'int'>\n",
      "key:: list                     , val:: <class 'list'>\n",
      "key:: map                      , val:: <class 'map'>\n",
      "key:: object                   , val:: <class 'object'>\n",
      "key:: range                    , val:: <class 'range'>\n",
      "key:: reversed                 , val:: <class 'reversed'>\n",
      "key:: set                      , val:: <class 'set'>\n",
      "key:: slice                    , val:: <class 'slice'>\n",
      "key:: staticmethod             , val:: <class 'staticmethod'>\n",
      "key:: str                      , val:: <class 'str'>\n",
      "key:: super                    , val:: <class 'super'>\n",
      "key:: tuple                    , val:: <class 'tuple'>\n",
      "key:: type                     , val:: <class 'type'>\n",
      "key:: zip                      , val:: <class 'zip'>\n",
      "key:: __debug__                , val:: True\n",
      "key:: BaseException            , val:: <class 'BaseException'>\n",
      "key:: BaseExceptionGroup       , val:: <class 'BaseExceptionGroup'>\n",
      "key:: Exception                , val:: <class 'Exception'>\n",
      "key:: GeneratorExit            , val:: <class 'GeneratorExit'>\n",
      "key:: KeyboardInterrupt        , val:: <class 'KeyboardInterrupt'>\n",
      "key:: SystemExit               , val:: <class 'SystemExit'>\n",
      "key:: ArithmeticError          , val:: <class 'ArithmeticError'>\n",
      "key:: AssertionError           , val:: <class 'AssertionError'>\n",
      "key:: AttributeError           , val:: <class 'AttributeError'>\n",
      "key:: BufferError              , val:: <class 'BufferError'>\n",
      "key:: EOFError                 , val:: <class 'EOFError'>\n",
      "key:: ImportError              , val:: <class 'ImportError'>\n",
      "key:: LookupError              , val:: <class 'LookupError'>\n",
      "key:: MemoryError              , val:: <class 'MemoryError'>\n",
      "key:: NameError                , val:: <class 'NameError'>\n",
      "key:: OSError                  , val:: <class 'OSError'>\n",
      "key:: ReferenceError           , val:: <class 'ReferenceError'>\n",
      "key:: RuntimeError             , val:: <class 'RuntimeError'>\n",
      "key:: StopAsyncIteration       , val:: <class 'StopAsyncIteration'>\n",
      "key:: StopIteration            , val:: <class 'StopIteration'>\n",
      "key:: SyntaxError              , val:: <class 'SyntaxError'>\n",
      "key:: SystemError              , val:: <class 'SystemError'>\n",
      "key:: TypeError                , val:: <class 'TypeError'>\n",
      "key:: ValueError               , val:: <class 'ValueError'>\n",
      "key:: Warning                  , val:: <class 'Warning'>\n",
      "key:: FloatingPointError       , val:: <class 'FloatingPointError'>\n",
      "key:: OverflowError            , val:: <class 'OverflowError'>\n",
      "key:: ZeroDivisionError        , val:: <class 'ZeroDivisionError'>\n",
      "key:: BytesWarning             , val:: <class 'BytesWarning'>\n",
      "key:: DeprecationWarning       , val:: <class 'DeprecationWarning'>\n",
      "key:: EncodingWarning          , val:: <class 'EncodingWarning'>\n",
      "key:: FutureWarning            , val:: <class 'FutureWarning'>\n",
      "key:: ImportWarning            , val:: <class 'ImportWarning'>\n",
      "key:: PendingDeprecationWarning, val:: <class 'PendingDeprecationWarning'>\n",
      "key:: ResourceWarning          , val:: <class 'ResourceWarning'>\n",
      "key:: RuntimeWarning           , val:: <class 'RuntimeWarning'>\n",
      "key:: SyntaxWarning            , val:: <class 'SyntaxWarning'>\n",
      "key:: UnicodeWarning           , val:: <class 'UnicodeWarning'>\n",
      "key:: UserWarning              , val:: <class 'UserWarning'>\n",
      "key:: BlockingIOError          , val:: <class 'BlockingIOError'>\n",
      "key:: ChildProcessError        , val:: <class 'ChildProcessError'>\n",
      "key:: ConnectionError          , val:: <class 'ConnectionError'>\n",
      "key:: FileExistsError          , val:: <class 'FileExistsError'>\n",
      "key:: FileNotFoundError        , val:: <class 'FileNotFoundError'>\n",
      "key:: InterruptedError         , val:: <class 'InterruptedError'>\n",
      "key:: IsADirectoryError        , val:: <class 'IsADirectoryError'>\n",
      "key:: NotADirectoryError       , val:: <class 'NotADirectoryError'>\n",
      "key:: PermissionError          , val:: <class 'PermissionError'>\n",
      "key:: ProcessLookupError       , val:: <class 'ProcessLookupError'>\n",
      "key:: TimeoutError             , val:: <class 'TimeoutError'>\n",
      "key:: IndentationError         , val:: <class 'IndentationError'>\n",
      "key:: IndexError               , val:: <class 'IndexError'>\n",
      "key:: KeyError                 , val:: <class 'KeyError'>\n",
      "key:: ModuleNotFoundError      , val:: <class 'ModuleNotFoundError'>\n",
      "key:: NotImplementedError      , val:: <class 'NotImplementedError'>\n",
      "key:: RecursionError           , val:: <class 'RecursionError'>\n",
      "key:: UnboundLocalError        , val:: <class 'UnboundLocalError'>\n",
      "key:: UnicodeError             , val:: <class 'UnicodeError'>\n",
      "key:: BrokenPipeError          , val:: <class 'BrokenPipeError'>\n",
      "key:: ConnectionAbortedError   , val:: <class 'ConnectionAbortedError'>\n",
      "key:: ConnectionRefusedError   , val:: <class 'ConnectionRefusedError'>\n",
      "key:: ConnectionResetError     , val:: <class 'ConnectionResetError'>\n",
      "key:: TabError                 , val:: <class 'TabError'>\n",
      "key:: UnicodeDecodeError       , val:: <class 'UnicodeDecodeError'>\n",
      "key:: UnicodeEncodeError       , val:: <class 'UnicodeEncodeError'>\n",
      "key:: UnicodeTranslateError    , val:: <class 'UnicodeTranslateError'>\n",
      "key:: ExceptionGroup           , val:: <class 'ExceptionGroup'>\n",
      "key:: EnvironmentError         , val:: <class 'OSError'>\n",
      "key:: IOError                  , val:: <class 'OSError'>\n",
      "key:: open                     , val:: <built-in function open>\n",
      "key:: copyright                , val:: Copyright (c) 2001-2022 Python Software Foundation.\n",
      "All Rights Reserved.\n",
      "\n",
      "Copyright (c) 2000 BeOpen.com.\n",
      "All Rights Reserved.\n",
      "\n",
      "Copyright (c) 1995-2001 Corporation for National Research Initiatives.\n",
      "All Rights Reserved.\n",
      "\n",
      "Copyright (c) 1991-1995 Stichting Mathematisch Centrum, Amsterdam.\n",
      "All Rights Reserved.\n",
      "key:: credits                  , val::     Thanks to CWI, CNRI, BeOpen.com, Zope Corporation and a cast of thousands\n",
      "    for supporting Python development.  See www.python.org for more information.\n",
      "key:: license                  , val:: Type license() to see the full license text\n",
      "key:: help                     , val:: Type help() for interactive help, or help(object) for help about object.\n",
      "key:: execfile                 , val:: <function execfile at 0x7f4a063ad800>\n",
      "key:: runfile                  , val:: <function runfile at 0x7f4a062a1e40>\n",
      "key:: __IPYTHON__              , val:: True\n",
      "key:: display                  , val:: <function display at 0x7f4a0775cfe0>\n",
      "key:: get_ipython              , val:: <bound method InteractiveShell.get_ipython of <ipykernel.zmqshell.ZMQInteractiveShell object at 0x7f4a05ef3d50>>\n"
     ]
    }
   ],
   "source": [
    "builtins = __builtins__.__dict__\n",
    "\n",
    "print(f\"The built-ins dictionary has {len(builtins)} entries.\")\n",
    "\n",
    "for key, val in builtins.items():\n",
    "    print(f\"key:: {key:25}, val:: {val}\")"
   ]
  },
  {
   "attachments": {},
   "cell_type": "markdown",
   "metadata": {},
   "source": [
    "## Functions as objects"
   ]
  },
  {
   "cell_type": "code",
   "execution_count": 5,
   "metadata": {},
   "outputs": [],
   "source": [
    "def func_obj(param1: int = 123, param2: str = \"Python\") -> None:\n",
    "    \"\"\"Used to demo function properties.\"\"\"\n",
    "    local_var = 42\n",
    "    print(f\"param1={param1}, param2={param2}, local_var={local_var}\")"
   ]
  },
  {
   "cell_type": "code",
   "execution_count": 6,
   "metadata": {},
   "outputs": [
    {
     "name": "stdout",
     "output_type": "stream",
     "text": [
      "func_obj\n",
      "{'param1': <class 'int'>, 'param2': <class 'str'>, 'return': None}\n",
      "<method-wrapper '__str__' of function object at 0x7f4a04266200>\n",
      "Used to demo function properties.\n",
      "<class 'function'>\n",
      "<built-in method __dir__ of function object at 0x7f4a04266200>\n"
     ]
    }
   ],
   "source": [
    "print(func_obj.__name__)\n",
    "print(func_obj.__annotations__)\n",
    "print(func_obj.__str__)\n",
    "print(func_obj.__doc__)\n",
    "print(func_obj.__class__)\n",
    "print(func_obj.__dir__)"
   ]
  },
  {
   "cell_type": "code",
   "execution_count": 7,
   "metadata": {},
   "outputs": [
    {
     "data": {
      "text/plain": [
       "['__annotations__',\n",
       " '__builtins__',\n",
       " '__call__',\n",
       " '__class__',\n",
       " '__closure__',\n",
       " '__code__',\n",
       " '__defaults__',\n",
       " '__delattr__',\n",
       " '__dict__',\n",
       " '__dir__',\n",
       " '__doc__',\n",
       " '__eq__',\n",
       " '__format__',\n",
       " '__ge__',\n",
       " '__get__',\n",
       " '__getattribute__',\n",
       " '__getstate__',\n",
       " '__globals__',\n",
       " '__gt__',\n",
       " '__hash__',\n",
       " '__init__',\n",
       " '__init_subclass__',\n",
       " '__kwdefaults__',\n",
       " '__le__',\n",
       " '__lt__',\n",
       " '__module__',\n",
       " '__name__',\n",
       " '__ne__',\n",
       " '__new__',\n",
       " '__qualname__',\n",
       " '__reduce__',\n",
       " '__reduce_ex__',\n",
       " '__repr__',\n",
       " '__setattr__',\n",
       " '__sizeof__',\n",
       " '__str__',\n",
       " '__subclasshook__']"
      ]
     },
     "execution_count": 7,
     "metadata": {},
     "output_type": "execute_result"
    }
   ],
   "source": [
    "dir(func_obj)"
   ]
  },
  {
   "cell_type": "code",
   "execution_count": 8,
   "metadata": {},
   "outputs": [
    {
     "name": "stdout",
     "output_type": "stream",
     "text": [
      "Help on function func_obj in module __main__:\n",
      "\n",
      "func_obj(param1: int = 123, param2: str = 'Python') -> None\n",
      "    Used to demo function properties.\n",
      "\n"
     ]
    }
   ],
   "source": [
    "help(func_obj)"
   ]
  }
 ],
 "metadata": {
  "kernelspec": {
   "display_name": ".venv",
   "language": "python",
   "name": "python3"
  },
  "language_info": {
   "codemirror_mode": {
    "name": "ipython",
    "version": 3
   },
   "file_extension": ".py",
   "mimetype": "text/x-python",
   "name": "python",
   "nbconvert_exporter": "python",
   "pygments_lexer": "ipython3",
   "version": "3.11.1"
  },
  "orig_nbformat": 4
 },
 "nbformat": 4,
 "nbformat_minor": 2
}
