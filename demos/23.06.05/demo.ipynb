{
 "cells": [
  {
   "attachments": {},
   "cell_type": "markdown",
   "metadata": {},
   "source": [
    "# Introduction to Classes\n",
    "\n",
    "Everything in Python is a `class` (sound familiar?).\n",
    "\n",
    "Up to now you've been using classes that have been provided to you by Python itself. Now, however, you will be able to create your own classes, also known as **abstract data types**."
   ]
  },
  {
   "attachments": {},
   "cell_type": "markdown",
   "metadata": {},
   "source": [
    "## Object-Oriented Programming (OOP)\n",
    "\n",
    "OOP is a programming paradigm that organizes software design around data, or objects, rather than functions and logic.\n",
    "\n",
    "In OOP the data that represents an object (its attributes) is bundled with the operations that can be performed on the object (its methods).\n",
    "\n",
    "* an **attribute** is simply data that belongs to an object\n",
    "* a **method** is a function that belongs to an object\n",
    "\n",
    "### The Pillars of Object-Oriented Programming\n",
    "\n",
    "* Encapsulation\n",
    "* Polymorphism\n",
    "* Inheritance"
   ]
  },
  {
   "attachments": {},
   "cell_type": "markdown",
   "metadata": {},
   "source": [
    "## A Simple Example\n",
    "\n",
    "In Python, the `class` keyword is used to create a class."
   ]
  },
  {
   "cell_type": "code",
   "execution_count": null,
   "metadata": {},
   "outputs": [],
   "source": [
    "class ExampleClass:\n",
    "    \"\"\"A very basic example of a Python class.\"\"\"\n",
    "\n",
    "    def __init__(self, param1: int, param2: int):\n",
    "        \"\"\"Initialize the example object.\n",
    "\n",
    "        The init method never has a return value.\n",
    "        \"\"\"\n",
    "        self.attribute1 = param1\n",
    "        self.attribute2 = param2\n",
    "\n",
    "    def __str__(self) -> str:\n",
    "        \"\"\"Create a string representation of the example object .\n",
    "\n",
    "        The return value of the str method should be a reasonable representation\n",
    "        of the object and is meant to be understood by users.\n",
    "        \"\"\"\n",
    "        return f\"{self.attribute1}, {self.attribute2}\"\n",
    "\n",
    "    def __repr__(self) -> str:\n",
    "        \"\"\"Create a string representation of the example object suitable for debugging.\n",
    "\n",
    "        The return value of the repr method is used for debugging purposes and\n",
    "        often looks like a call to the object's init method.\n",
    "        \"\"\"\n",
    "        return f\"Example(param1={self.attribute1}, param2={self.attribute2})\""
   ]
  },
  {
   "attachments": {},
   "cell_type": "markdown",
   "metadata": {},
   "source": [
    "The `Example` class is not very interesting in itself but it does demonstrate several key concepts of classes in Python.\n",
    "\n",
    "* Unlike the [Python identifiers](https://en.wikipedia.org/wiki/Naming_convention_(programming)#Python_and_Ruby) you've seen before, classes are named using [Pascal case](https://en.wikipedia.org/wiki/Naming_convention_(programming)#Examples_of_multiple-word_identifier_formats).\n",
    "* Python classes should be contained in files that named after the class itself, the file's name uses snake case as usual.\n",
    "* Classes always have a __init__ method that initializes an *instance* of the class.\n",
    "    * A class is to an object as a blueprint is to a house.\n",
    "    * An **instance** of a class is like an actual house!\n",
    "* Python has special attributes and methods whose names begin and end with double underscores. These are commonly called *\"dunders\"*.\n",
    "* Python classes almost always have a `__str__` and `__repr__` methods.\n",
    "    * `__str__` creates a human-readable representation of the object instance.\n",
    "    * `__repr__` creates an object representation suitable for debugging. You should be able to take the output from a call to `__repr__`, pass it to the built-in `eval()` function, and create an identical instance of the object.\n",
    "    * [When Should You Use .__repr__() vs .__str__() in Python?](https://realpython.com/python-repr-vs-str/)\n",
    "* **All** methods take `self` as their first argument.\n",
    "    * `self` refers to the **current** instance of the class\n",
    "    * You never pass a value for `self`, Python handles this behind the scenes."
   ]
  },
  {
   "cell_type": "code",
   "execution_count": null,
   "metadata": {},
   "outputs": [],
   "source": [
    "ex1 = ExampleClass(37, 42)  # create an instance of the ExampleClass class\n",
    "\n",
    "print(ex1)\n",
    "print(repr(ex1))"
   ]
  },
  {
   "cell_type": "code",
   "execution_count": null,
   "metadata": {},
   "outputs": [],
   "source": [
    "dir(ex1)"
   ]
  },
  {
   "cell_type": "code",
   "execution_count": null,
   "metadata": {},
   "outputs": [],
   "source": [
    "print(ex1.__module__)\n",
    "print(ex1.__class__)\n",
    "isinstance(ex1, ExampleClass)"
   ]
  },
  {
   "attachments": {},
   "cell_type": "markdown",
   "metadata": {},
   "source": [
    "## More on Attributes\n",
    "\n",
    "instance vs class attributes"
   ]
  },
  {
   "cell_type": "code",
   "execution_count": null,
   "metadata": {},
   "outputs": [],
   "source": [
    "class Student:\n",
    "    school = \"Linn-Benton Community College\"  # class attribute\n",
    "\n",
    "    def __init__(self, name: str, major: str):\n",
    "        self.name = name  # instance attribute\n",
    "        self.major = major  # instance attribute\n",
    "\n",
    "    def __str__(self) -> str:\n",
    "        return f\"{self.name} is a {self.major} major at {self.school}.\"\n",
    "\n",
    "    def __repr__(self) -> str:\n",
    "        return f\"Student({self.name}, {self.major})\""
   ]
  },
  {
   "cell_type": "code",
   "execution_count": null,
   "metadata": {},
   "outputs": [],
   "source": [
    "students = [\n",
    "    Student(\"Victoria Gregorowicz\", \"Computer Science\"),\n",
    "    Student(\"Marty Spadeck\", \"Basket Weaving\"),\n",
    "    Student(\"Jemmie Stonelake\", \"Basket Weaving\"),\n",
    "    Student(\"Alfred Meckiff\", \"Computer Science\"),\n",
    "    Student(\"Kiley Turbat\", \"Business\"),\n",
    "]"
   ]
  },
  {
   "cell_type": "code",
   "execution_count": null,
   "metadata": {},
   "outputs": [],
   "source": [
    "for student in students:\n",
    "    print(student)"
   ]
  },
  {
   "cell_type": "code",
   "execution_count": null,
   "metadata": {},
   "outputs": [],
   "source": [
    "## access an attribute using the dot operator\n",
    "for student in students:\n",
    "    print(student.name)"
   ]
  },
  {
   "cell_type": "code",
   "execution_count": null,
   "metadata": {},
   "outputs": [],
   "source": [
    "students[0].__dict__"
   ]
  },
  {
   "cell_type": "code",
   "execution_count": null,
   "metadata": {},
   "outputs": [],
   "source": [
    "Student.__dict__"
   ]
  },
  {
   "cell_type": "code",
   "execution_count": null,
   "metadata": {},
   "outputs": [],
   "source": [
    "Student.school = \"the school of hard knocks\"\n",
    "\n",
    "for student in students:\n",
    "    print(student)"
   ]
  },
  {
   "attachments": {},
   "cell_type": "markdown",
   "metadata": {},
   "source": [
    "## Example: Point Class"
   ]
  },
  {
   "cell_type": "code",
   "execution_count": null,
   "metadata": {},
   "outputs": [],
   "source": [
    "from __future__ import annotations  # required for forward references\n",
    "\n",
    "import math\n",
    "\n",
    "\n",
    "class Point:\n",
    "    \"\"\"A point on a 2D cartesian plane.\"\"\"\n",
    "\n",
    "    def __init__(self, x: float = 0.0, y: float = 0.0):\n",
    "        self.x = x\n",
    "        self.y = y\n",
    "\n",
    "    def __str__(self) -> str:\n",
    "        return f\"({self.x:.2f}, {self.y:.2f})\"\n",
    "\n",
    "    def __repr__(self):\n",
    "        return f\"Point({self.x}, {self.y})\"\n",
    "\n",
    "    def distance(self, other) -> float:\n",
    "        \"\"\"Compute the distance between this and another Point.\"\"\"\n",
    "        return math.sqrt((self.x - other.x) ** 2 + (self.y - other.y) ** 2)\n",
    "\n",
    "    def sum(self, other) -> Point:\n",
    "        return Point(self.x + other.x, self.y + other.y)"
   ]
  },
  {
   "attachments": {},
   "cell_type": "markdown",
   "metadata": {},
   "source": [
    "Note that when you have a method whose return type is that of its class you need to handle it specially. This is known as a **forward reference**."
   ]
  },
  {
   "attachments": {},
   "cell_type": "markdown",
   "metadata": {},
   "source": [
    "## Public vs Private Data\n",
    "\n",
    "Python doesn't really have the notion of private data (attributes) as most other OOP languages do.\n",
    "\n",
    "Instead, Python uses the convention of prefixing what should be a private attribute with a double underscore (`__`)"
   ]
  },
  {
   "cell_type": "code",
   "execution_count": null,
   "metadata": {},
   "outputs": [],
   "source": [
    "class WithPrivate:\n",
    "    def __init__(self):\n",
    "        self.public_attribute = \"public\"\n",
    "        self.__private_attribute = \"private\"\n",
    "\n",
    "    def __str__(self) -> str:\n",
    "        return f'This object has a public attribute with the value \"{self.public_attribute}\" and a private attribute with the value \"{self.__private_attribute}\"'\n",
    "\n",
    "\n",
    "wp = WithPrivate()"
   ]
  },
  {
   "cell_type": "code",
   "execution_count": null,
   "metadata": {},
   "outputs": [],
   "source": [
    "wp.public_attribute"
   ]
  },
  {
   "cell_type": "code",
   "execution_count": null,
   "metadata": {},
   "outputs": [],
   "source": [
    "print(wp)"
   ]
  },
  {
   "cell_type": "code",
   "execution_count": null,
   "metadata": {},
   "outputs": [],
   "source": [
    "dir(wp)"
   ]
  },
  {
   "attachments": {},
   "cell_type": "markdown",
   "metadata": {},
   "source": [
    "## Python's Philosophy\n",
    "\n",
    "\"We're all adults here.\"\n",
    "\n",
    "Any identifier that starts with a single (`_`) or double (`__`) underscore should be considered off limits and not accessed outside the class or module."
   ]
  },
  {
   "attachments": {},
   "cell_type": "markdown",
   "metadata": {},
   "source": [
    "## The Rules of Programming\n",
    "\n",
    "9. Make sure your new class does the right thing."
   ]
  },
  {
   "attachments": {},
   "cell_type": "markdown",
   "metadata": {},
   "source": []
  }
 ],
 "metadata": {
  "kernelspec": {
   "display_name": ".venv",
   "language": "python",
   "name": "python3"
  },
  "language_info": {
   "codemirror_mode": {
    "name": "ipython",
    "version": 3
   },
   "file_extension": ".py",
   "mimetype": "text/x-python",
   "name": "python",
   "nbconvert_exporter": "python",
   "pygments_lexer": "ipython3",
   "version": "3.11.1"
  },
  "orig_nbformat": 4
 },
 "nbformat": 4,
 "nbformat_minor": 2
}
