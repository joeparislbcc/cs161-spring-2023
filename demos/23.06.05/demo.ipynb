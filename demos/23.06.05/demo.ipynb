{
 "cells": [
  {
   "attachments": {},
   "cell_type": "markdown",
   "metadata": {},
   "source": [
    "# Introduction to Classes\n",
    "\n",
    "Everything in Python is a `class` (sound familiar?).\n",
    "\n",
    "Up to now you've been using classes that have been provided to you by Python itself. Now, however, you will be able to create your own classes, also known as **abstract data types**."
   ]
  },
  {
   "attachments": {},
   "cell_type": "markdown",
   "metadata": {},
   "source": [
    "## Object-Oriented Programming (OOP)\n",
    "\n",
    "OOP is a programming paradigm that organizes software design around data, or objects, rather than functions and logic.\n",
    "\n",
    "In OOP the data that represents an object (its attributes) is bundled with the operations that can be performed on the object (its methods).\n",
    "\n",
    "* an **attribute** is simply data that belongs to an object\n",
    "* a **method** is a function that belongs to an object\n",
    "\n",
    "### The Pillars of Object-Oriented Programming\n",
    "\n",
    "* Encapsulation\n",
    "* Polymorphism\n",
    "* Inheritance"
   ]
  },
  {
   "attachments": {},
   "cell_type": "markdown",
   "metadata": {},
   "source": [
    "## A Simple Example\n",
    "\n",
    "In Python, the `class` keyword is used to create a class."
   ]
  },
  {
   "cell_type": "code",
   "execution_count": 2,
   "metadata": {},
   "outputs": [],
   "source": [
    "class ExampleClass:\n",
    "    \"\"\"A very basic example of a Python class.\"\"\"\n",
    "\n",
    "    def __init__(self, param1: int, param2: int):\n",
    "        \"\"\"Initialize the example object.\n",
    "\n",
    "        The init method never has a return value.\n",
    "        \"\"\"\n",
    "        self.attribute1 = param1\n",
    "        self.attribute2 = param2\n",
    "\n",
    "    def __str__(self) -> str:\n",
    "        \"\"\"Create a string representation of the example object .\n",
    "\n",
    "        The return value of the str method should be a reasonable representation\n",
    "        of the object and is meant to be understood by users.\n",
    "        \"\"\"\n",
    "        return f\"{self.attribute1}, {self.attribute2}\"\n",
    "\n",
    "    def __repr__(self) -> str:\n",
    "        \"\"\"Create a string representation of the example object suitable for debugging.\n",
    "\n",
    "        The return value of the repr method is used for debugging purposes and\n",
    "        often looks like a call to the object's init method.\n",
    "        \"\"\"\n",
    "        return f\"Example(param1={self.attribute1}, param2={self.attribute2})\""
   ]
  },
  {
   "attachments": {},
   "cell_type": "markdown",
   "metadata": {},
   "source": [
    "The `Example` class is not very interesting in itself but it does demonstrate several key concepts of classes in Python.\n",
    "\n",
    "* Unlike the [Python identifiers](https://en.wikipedia.org/wiki/Naming_convention_(programming)#Python_and_Ruby) you've seen before, classes are named using [Pascal case](https://en.wikipedia.org/wiki/Naming_convention_(programming)#Examples_of_multiple-word_identifier_formats).\n",
    "* Python classes should be contained in files that named after the class itself, the file's name uses snake case as usual.\n",
    "* Classes always have a __init__ method that initializes an *instance* of the class.\n",
    "    * A class is to an object as a blueprint is to a house.\n",
    "    * An **instance** of a class is like an actual house!\n",
    "* Python has special attributes and methods whose names begin and end with double underscores. These are commonly called *\"dunders\"*.\n",
    "* Python classes almost always have a `__str__` and `__repr__` methods.\n",
    "    * `__str__` creates a human-readable representation of the object instance.\n",
    "    * `__repr__` creates an object representation suitable for debugging. You should be able to take the output from a call to `__repr__`, pass it to the built-in `eval()` function, and create an identical instance of the object.\n",
    "    * [When Should You Use .__repr__() vs .__str__() in Python?](https://realpython.com/python-repr-vs-str/)\n",
    "* **All** methods take `self` as their first argument.\n",
    "    * `self` refers to the **current** instance of the class\n",
    "    * You never pass a value for `self`, Python handles this behind the scenes."
   ]
  },
  {
   "cell_type": "code",
   "execution_count": 3,
   "metadata": {},
   "outputs": [
    {
     "name": "stdout",
     "output_type": "stream",
     "text": [
      "37, 42\n",
      "Example(param1=37, param2=42)\n"
     ]
    }
   ],
   "source": [
    "ex1 = ExampleClass(37, 42)  # create an instance of the ExampleClass class\n",
    "\n",
    "print(ex1)\n",
    "print(repr(ex1))"
   ]
  },
  {
   "cell_type": "code",
   "execution_count": 4,
   "metadata": {},
   "outputs": [
    {
     "data": {
      "text/plain": [
       "['__class__',\n",
       " '__delattr__',\n",
       " '__dict__',\n",
       " '__dir__',\n",
       " '__doc__',\n",
       " '__eq__',\n",
       " '__format__',\n",
       " '__ge__',\n",
       " '__getattribute__',\n",
       " '__getstate__',\n",
       " '__gt__',\n",
       " '__hash__',\n",
       " '__init__',\n",
       " '__init_subclass__',\n",
       " '__le__',\n",
       " '__lt__',\n",
       " '__module__',\n",
       " '__ne__',\n",
       " '__new__',\n",
       " '__reduce__',\n",
       " '__reduce_ex__',\n",
       " '__repr__',\n",
       " '__setattr__',\n",
       " '__sizeof__',\n",
       " '__str__',\n",
       " '__subclasshook__',\n",
       " '__weakref__',\n",
       " 'attribute1',\n",
       " 'attribute2']"
      ]
     },
     "execution_count": 4,
     "metadata": {},
     "output_type": "execute_result"
    }
   ],
   "source": [
    "dir(ex1)"
   ]
  },
  {
   "cell_type": "code",
   "execution_count": 8,
   "metadata": {},
   "outputs": [
    {
     "name": "stdout",
     "output_type": "stream",
     "text": [
      "__main__\n",
      "<class '__main__.ExampleClass'>\n"
     ]
    },
    {
     "data": {
      "text/plain": [
       "True"
      ]
     },
     "execution_count": 8,
     "metadata": {},
     "output_type": "execute_result"
    }
   ],
   "source": [
    "print(ex1.__module__)\n",
    "print(ex1.__class__)\n",
    "isinstance(ex1, ExampleClass)\n",
    "# isinstance(ex1, int)"
   ]
  },
  {
   "attachments": {},
   "cell_type": "markdown",
   "metadata": {},
   "source": [
    "## More on Attributes\n",
    "\n",
    "instance vs class attributes"
   ]
  },
  {
   "cell_type": "code",
   "execution_count": 9,
   "metadata": {},
   "outputs": [],
   "source": [
    "class Student:\n",
    "    school = \"Linn-Benton Community College\"  # class attribute\n",
    "\n",
    "    def __init__(self, name: str, major: str):\n",
    "        self.name = name  # instance attribute\n",
    "        self.major = major  # instance attribute\n",
    "\n",
    "    def __str__(self) -> str:\n",
    "        return f\"{self.name} is a {self.major} major at {self.school}.\"\n",
    "\n",
    "    def __repr__(self) -> str:\n",
    "        return f\"Student({self.name}, {self.major})\""
   ]
  },
  {
   "cell_type": "code",
   "execution_count": 10,
   "metadata": {},
   "outputs": [],
   "source": [
    "students = [\n",
    "    (\"Victoria Gregorowicz\", \"Computer Science\"),\n",
    "    Student(\"Marty Spadeck\", \"Basket Weaving\"),\n",
    "    Student(\"Jemmie Stonelake\", \"Basket Weaving\"),\n",
    "    Student(\"Alfred Meckiff\", \"Computer Science\"),\n",
    "    Student(\"Kiley Turbat\", \"Business\"),\n",
    "]"
   ]
  },
  {
   "cell_type": "code",
   "execution_count": 11,
   "metadata": {},
   "outputs": [
    {
     "name": "stdout",
     "output_type": "stream",
     "text": [
      "Victoria Gregorowicz is a Computer Science major at Linn-Benton Community College.\n",
      "Marty Spadeck is a Basket Weaving major at Linn-Benton Community College.\n",
      "Jemmie Stonelake is a Basket Weaving major at Linn-Benton Community College.\n",
      "Alfred Meckiff is a Computer Science major at Linn-Benton Community College.\n",
      "Kiley Turbat is a Business major at Linn-Benton Community College.\n"
     ]
    }
   ],
   "source": [
    "for student in students:\n",
    "    print(student)"
   ]
  },
  {
   "cell_type": "code",
   "execution_count": 14,
   "metadata": {},
   "outputs": [
    {
     "name": "stdout",
     "output_type": "stream",
     "text": [
      "Linn-Benton Community College\n",
      "Linn-Benton Community College\n",
      "Linn-Benton Community College\n",
      "Linn-Benton Community College\n",
      "Linn-Benton Community College\n"
     ]
    }
   ],
   "source": [
    "## access an attribute using the dot operator\n",
    "for student in students:\n",
    "    print(student.school)"
   ]
  },
  {
   "cell_type": "code",
   "execution_count": 15,
   "metadata": {},
   "outputs": [
    {
     "data": {
      "text/plain": [
       "{'name': 'Victoria Gregorowicz', 'major': 'Computer Science'}"
      ]
     },
     "execution_count": 15,
     "metadata": {},
     "output_type": "execute_result"
    }
   ],
   "source": [
    "students[0].__dict__"
   ]
  },
  {
   "cell_type": "code",
   "execution_count": 16,
   "metadata": {},
   "outputs": [
    {
     "data": {
      "text/plain": [
       "mappingproxy({'__module__': '__main__',\n",
       "              'school': 'Linn-Benton Community College',\n",
       "              '__init__': <function __main__.Student.__init__(self, name: str, major: str)>,\n",
       "              '__str__': <function __main__.Student.__str__(self) -> str>,\n",
       "              '__repr__': <function __main__.Student.__repr__(self) -> str>,\n",
       "              '__dict__': <attribute '__dict__' of 'Student' objects>,\n",
       "              '__weakref__': <attribute '__weakref__' of 'Student' objects>,\n",
       "              '__doc__': None})"
      ]
     },
     "execution_count": 16,
     "metadata": {},
     "output_type": "execute_result"
    }
   ],
   "source": [
    "Student.__dict__"
   ]
  },
  {
   "cell_type": "code",
   "execution_count": 17,
   "metadata": {},
   "outputs": [
    {
     "name": "stdout",
     "output_type": "stream",
     "text": [
      "Victoria Gregorowicz is a Computer Science major at the school of hard knocks.\n",
      "Marty Spadeck is a Basket Weaving major at the school of hard knocks.\n",
      "Jemmie Stonelake is a Basket Weaving major at the school of hard knocks.\n",
      "Alfred Meckiff is a Computer Science major at the school of hard knocks.\n",
      "Kiley Turbat is a Business major at the school of hard knocks.\n"
     ]
    }
   ],
   "source": [
    "Student.school = \"the school of hard knocks\"\n",
    "\n",
    "for student in students:\n",
    "    print(student)"
   ]
  },
  {
   "attachments": {},
   "cell_type": "markdown",
   "metadata": {},
   "source": [
    "## Example: Point Class"
   ]
  },
  {
   "cell_type": "code",
   "execution_count": 1,
   "metadata": {},
   "outputs": [],
   "source": [
    "from __future__ import annotations  # required for forward references\n",
    "\n",
    "import math\n",
    "\n",
    "\n",
    "class Point:\n",
    "    \"\"\"A point on a 2D cartesian plane.\"\"\"\n",
    "\n",
    "    def __init__(self, x: float = 0.0, y: float = 0.0):\n",
    "        self.x = x\n",
    "        self.y = y\n",
    "\n",
    "    def __str__(self) -> str:\n",
    "        return f\"({self.x:.2f}, {self.y:.2f})\"\n",
    "\n",
    "    def __repr__(self):\n",
    "        return f\"Point({self.x}, {self.y})\"\n",
    "\n",
    "    def distance(self, other: Point) -> float:\n",
    "        \"\"\"Compute the distance between this and another Point.\"\"\"\n",
    "        return math.sqrt((self.x - other.x) ** 2 + (self.y - other.y) ** 2)\n",
    "\n",
    "    def sum(self, other: Point) -> Point:\n",
    "        return Point(self.x + other.x, self.y + other.y)"
   ]
  },
  {
   "attachments": {},
   "cell_type": "markdown",
   "metadata": {},
   "source": [
    "Note that when you have a method whose return type is that of its class you need to handle it specially. This is known as a **forward reference**."
   ]
  },
  {
   "attachments": {},
   "cell_type": "markdown",
   "metadata": {},
   "source": [
    "## Public vs Private Data\n",
    "\n",
    "Python doesn't really have the notion of private data (attributes) as most other OOP languages do.\n",
    "\n",
    "Instead, Python uses the convention of prefixing what should be a private attribute with a double underscore (`__`)"
   ]
  },
  {
   "cell_type": "code",
   "execution_count": 2,
   "metadata": {},
   "outputs": [],
   "source": [
    "class WithPrivate:\n",
    "    def __init__(self):\n",
    "        self.public_attribute = \"public\"\n",
    "        self.__private_attribute = \"private\"\n",
    "\n",
    "    def __str__(self) -> str:\n",
    "        return f'This object has a public attribute with the value \"{self.public_attribute}\" and a private attribute with the value \"{self.__private_attribute}\"'\n",
    "\n",
    "\n",
    "wp = WithPrivate()"
   ]
  },
  {
   "cell_type": "code",
   "execution_count": 3,
   "metadata": {},
   "outputs": [
    {
     "data": {
      "text/plain": [
       "'public'"
      ]
     },
     "execution_count": 3,
     "metadata": {},
     "output_type": "execute_result"
    }
   ],
   "source": [
    "wp.public_attribute"
   ]
  },
  {
   "cell_type": "code",
   "execution_count": 4,
   "metadata": {},
   "outputs": [
    {
     "name": "stdout",
     "output_type": "stream",
     "text": [
      "This object has a public attribute with the value \"public\" and a private attribute with the value \"private\"\n"
     ]
    }
   ],
   "source": [
    "print(wp)"
   ]
  },
  {
   "cell_type": "code",
   "execution_count": 5,
   "metadata": {},
   "outputs": [
    {
     "ename": "AttributeError",
     "evalue": "'WithPrivate' object has no attribute '__private_attribute'",
     "output_type": "error",
     "traceback": [
      "\u001b[0;31m---------------------------------------------------------------------------\u001b[0m",
      "\u001b[0;31mAttributeError\u001b[0m                            Traceback (most recent call last)",
      "Cell \u001b[0;32mIn[5], line 1\u001b[0m\n\u001b[0;32m----> 1\u001b[0m wp\u001b[39m.\u001b[39;49m__private_attribute\n",
      "\u001b[0;31mAttributeError\u001b[0m: 'WithPrivate' object has no attribute '__private_attribute'"
     ]
    }
   ],
   "source": [
    "wp.__private_attribute"
   ]
  },
  {
   "cell_type": "code",
   "execution_count": 6,
   "metadata": {},
   "outputs": [
    {
     "data": {
      "text/plain": [
       "['_WithPrivate__private_attribute',\n",
       " '__class__',\n",
       " '__delattr__',\n",
       " '__dict__',\n",
       " '__dir__',\n",
       " '__doc__',\n",
       " '__eq__',\n",
       " '__format__',\n",
       " '__ge__',\n",
       " '__getattribute__',\n",
       " '__getstate__',\n",
       " '__gt__',\n",
       " '__hash__',\n",
       " '__init__',\n",
       " '__init_subclass__',\n",
       " '__le__',\n",
       " '__lt__',\n",
       " '__module__',\n",
       " '__ne__',\n",
       " '__new__',\n",
       " '__reduce__',\n",
       " '__reduce_ex__',\n",
       " '__repr__',\n",
       " '__setattr__',\n",
       " '__sizeof__',\n",
       " '__str__',\n",
       " '__subclasshook__',\n",
       " '__weakref__',\n",
       " 'public_attribute']"
      ]
     },
     "execution_count": 6,
     "metadata": {},
     "output_type": "execute_result"
    }
   ],
   "source": [
    "dir(wp)"
   ]
  },
  {
   "cell_type": "code",
   "execution_count": 7,
   "metadata": {},
   "outputs": [
    {
     "data": {
      "text/plain": [
       "'private'"
      ]
     },
     "execution_count": 7,
     "metadata": {},
     "output_type": "execute_result"
    }
   ],
   "source": [
    "wp._WithPrivate__private_attribute"
   ]
  },
  {
   "attachments": {},
   "cell_type": "markdown",
   "metadata": {},
   "source": [
    "## Python's Philosophy\n",
    "\n",
    "\"We're all adults here.\"\n",
    "\n",
    "Any identifier that starts with a single (`_`) or double (`__`) underscore should be considered off limits and not accessed outside the class or module."
   ]
  },
  {
   "attachments": {},
   "cell_type": "markdown",
   "metadata": {},
   "source": [
    "## The Rules of Programming\n",
    "\n",
    "9. Make sure your new class does the right thing."
   ]
  }
 ],
 "metadata": {
  "kernelspec": {
   "display_name": ".venv",
   "language": "python",
   "name": "python3"
  },
  "language_info": {
   "codemirror_mode": {
    "name": "ipython",
    "version": 3
   },
   "file_extension": ".py",
   "mimetype": "text/x-python",
   "name": "python",
   "nbconvert_exporter": "python",
   "pygments_lexer": "ipython3",
   "version": "3.11.1"
  },
  "orig_nbformat": 4
 },
 "nbformat": 4,
 "nbformat_minor": 2
}
