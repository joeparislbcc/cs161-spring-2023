{
 "cells": [
  {
   "attachments": {},
   "cell_type": "markdown",
   "metadata": {},
   "source": [
    "# Lists & Tuples"
   ]
  },
  {
   "attachments": {},
   "cell_type": "markdown",
   "metadata": {},
   "source": [
    "## Lists"
   ]
  },
  {
   "attachments": {},
   "cell_type": "markdown",
   "metadata": {},
   "source": [
    "### `sorted()` vs `.sort()`\n",
    "\n",
    "`sorted` returns a new list in sorted order.\n",
    "\n",
    "`.sort()` sorts the list in-place."
   ]
  },
  {
   "cell_type": "code",
   "execution_count": null,
   "metadata": {},
   "outputs": [],
   "source": [
    "fellowship = [\n",
    "    (\"Frodo\", \"Baggins\", \"Hobit\"),\n",
    "    (\"Samwise\", \"Gamgee\", \"Hobbit\"),\n",
    "    (\"Meriadoc\", \"Brandybuck\", \"Hobbit\"),\n",
    "    (\"Peregrin\", \"Took\", \"Hobbit\"),\n",
    "    (\"Aragorn\", \"son of Arathorn II\", \"Human\"),\n",
    "    (\"Boromir\", \"son of Denethor II\", \"Human\"),\n",
    "    (\"Legolas\", \"son of Thranduil\", \"Elf\"),\n",
    "    (\"Gimli\", \"son of Glóin\", \"Dwarf\"),\n",
    "    (\"Gandalf\", \"the Grey\", \"Wizard\"),\n",
    "]"
   ]
  },
  {
   "cell_type": "code",
   "execution_count": null,
   "metadata": {},
   "outputs": [],
   "source": [
    "for member in fellowship:\n",
    "    print(member)"
   ]
  },
  {
   "cell_type": "code",
   "execution_count": null,
   "metadata": {},
   "outputs": [],
   "source": [
    "sorted(fellowship)"
   ]
  },
  {
   "cell_type": "code",
   "execution_count": null,
   "metadata": {},
   "outputs": [],
   "source": [
    "fellowship.sort()"
   ]
  },
  {
   "attachments": {},
   "cell_type": "markdown",
   "metadata": {},
   "source": [
    "### More on Sorting\n",
    "\n",
    "Sorting a list of Sequences will sort on the first element of each Sequence. This behavior can ge changed, however..."
   ]
  },
  {
   "cell_type": "code",
   "execution_count": null,
   "metadata": {},
   "outputs": [],
   "source": [
    "from operator import itemgetter\n",
    "\n",
    "fellowship.sort(key=itemgetter(1))\n",
    "\n",
    "for member in fellowship:\n",
    "    print(member)"
   ]
  },
  {
   "cell_type": "code",
   "execution_count": null,
   "metadata": {},
   "outputs": [],
   "source": [
    "from operator import itemgetter\n",
    "\n",
    "fellowship.sort(key=itemgetter(2))\n",
    "\n",
    "for member in fellowship:\n",
    "    print(member)"
   ]
  },
  {
   "cell_type": "code",
   "execution_count": null,
   "metadata": {},
   "outputs": [],
   "source": [
    "from operator import itemgetter\n",
    "\n",
    "fellowship.sort(key=itemgetter(2, 1))\n",
    "\n",
    "for member in fellowship:\n",
    "    print(member)"
   ]
  },
  {
   "attachments": {},
   "cell_type": "markdown",
   "metadata": {},
   "source": [
    "### Splitting and Joining"
   ]
  },
  {
   "cell_type": "code",
   "execution_count": null,
   "metadata": {},
   "outputs": [],
   "source": [
    "sentence = \"Are you suggesting coconuts migrate?\"\n",
    "\n",
    "# split the string into a list of strings separated at whitespace by default\n",
    "words = sentence.split()\n",
    "\n",
    "print(words)"
   ]
  },
  {
   "cell_type": "code",
   "execution_count": null,
   "metadata": {},
   "outputs": [],
   "source": [
    "reversed_words: list[str] = []\n",
    "\n",
    "for word in words:\n",
    "    reversed_words.append(\"\".join(reversed(word)))\n",
    "\n",
    "print(reversed_words)"
   ]
  },
  {
   "cell_type": "code",
   "execution_count": null,
   "metadata": {},
   "outputs": [],
   "source": [
    "reversed_sentence: str = \" \".join(reversed_words)\n",
    "\n",
    "print(reversed_sentence)"
   ]
  },
  {
   "attachments": {},
   "cell_type": "markdown",
   "metadata": {},
   "source": [
    "### Putting it all together"
   ]
  },
  {
   "cell_type": "code",
   "execution_count": null,
   "metadata": {},
   "outputs": [],
   "source": [
    "def are_anagrams(word1, word2):\n",
    "    return sorted(word1) == sorted(word2)\n",
    "\n",
    "\n",
    "print(\"Anagram Test\")\n",
    "\n",
    "while True:\n",
    "    try:\n",
    "        words = input(\"Please enter two words separated by a space: \")\n",
    "        word1, word2 = words.strip().split()\n",
    "        break\n",
    "    except ValueError:\n",
    "        print(f\"Bad input: {words}\")\n",
    "\n",
    "if are_anagrams(word1, word2):\n",
    "    print(f\"{word1} and {word2} are anagrams.\")\n",
    "else:\n",
    "    print(f\"{word1} and {word2} are not anagrams.\")"
   ]
  },
  {
   "attachments": {},
   "cell_type": "markdown",
   "metadata": {},
   "source": [
    "## Mutable Objects and References"
   ]
  },
  {
   "cell_type": "code",
   "execution_count": null,
   "metadata": {},
   "outputs": [],
   "source": [
    "list_a = [1, 2, 3]\n",
    "list_b = list_a\n",
    "\n",
    "list_a.append(37)\n",
    "\n",
    "print(list_a)\n",
    "print(list_b)"
   ]
  },
  {
   "cell_type": "code",
   "execution_count": null,
   "metadata": {},
   "outputs": [],
   "source": [
    "print(list_a == list_b)\n",
    "print(list_a is list_b)"
   ]
  },
  {
   "attachments": {},
   "cell_type": "markdown",
   "metadata": {},
   "source": [
    "see it on [pythontutor](https://pythontutor.com/visualize.html#code=list_a%20%3D%20%5B1,2,3%5D%0Alist_b%20%3D%20list_a%0A%0Alist_a.append%2837%29%0A%0Aprint%28list_a%29%0Aprint%28list_b%29&cumulative=false&curInstr=0&heapPrimitives=nevernest&mode=display&origin=opt-frontend.js&py=3&rawInputLstJSON=%5B%5D&textReferences=false)"
   ]
  },
  {
   "attachments": {},
   "cell_type": "markdown",
   "metadata": {},
   "source": [
    "### Shallow vs Deep Copy"
   ]
  },
  {
   "cell_type": "code",
   "execution_count": null,
   "metadata": {},
   "outputs": [],
   "source": [
    "list_a = [1, 2, 3]\n",
    "list_b = [4, 5, 6]\n",
    "\n",
    "list_a.append(list_b)"
   ]
  },
  {
   "cell_type": "code",
   "execution_count": null,
   "metadata": {},
   "outputs": [],
   "source": [
    "print(list_a)"
   ]
  },
  {
   "cell_type": "code",
   "execution_count": null,
   "metadata": {},
   "outputs": [],
   "source": [
    "list_c = list_b\n",
    "\n",
    "list_c[2] = 42\n",
    "\n",
    "print(list_c)"
   ]
  },
  {
   "cell_type": "code",
   "execution_count": null,
   "metadata": {},
   "outputs": [],
   "source": [
    "print(list_b)"
   ]
  },
  {
   "cell_type": "code",
   "execution_count": null,
   "metadata": {},
   "outputs": [],
   "source": [
    "print(list_a)"
   ]
  },
  {
   "attachments": {},
   "cell_type": "markdown",
   "metadata": {},
   "source": [
    "see it on [pythontutor](https://pythontutor.com/visualize.html#code=list_a%20%3D%20%5B1,%202,%203%5D%0Alist_b%20%3D%20%5B4,%205,%206%5D%0A%0Alist_a.append%28list_b%29%0A%0Alist_c%20%3D%20list_b%0A%0Alist_c%5B2%5D%20%3D%2042%0A%0Aprint%28list_c%29%0Aprint%28list_b%29%0Aprint%28list_a%29&cumulative=false&curInstr=0&heapPrimitives=nevernest&mode=display&origin=opt-frontend.js&py=3&rawInputLstJSON=%5B%5D&textReferences=false)"
   ]
  },
  {
   "cell_type": "code",
   "execution_count": null,
   "metadata": {},
   "outputs": [],
   "source": [
    "list_a = [1, 2, 3]\n",
    "list_b = [4, 5, 6]\n",
    "\n",
    "list_a.append(list_b)\n",
    "\n",
    "print(list_a)"
   ]
  },
  {
   "cell_type": "code",
   "execution_count": null,
   "metadata": {},
   "outputs": [],
   "source": [
    "list_c = list_a[:]  # list_c is a copy-slice of list_a\n",
    "\n",
    "print(list_c)"
   ]
  },
  {
   "cell_type": "code",
   "execution_count": null,
   "metadata": {},
   "outputs": [],
   "source": [
    "list_b[0] = 1000\n",
    "\n",
    "print(list_a)"
   ]
  },
  {
   "cell_type": "code",
   "execution_count": null,
   "metadata": {},
   "outputs": [],
   "source": [
    "print(list_c)"
   ]
  },
  {
   "attachments": {},
   "cell_type": "markdown",
   "metadata": {},
   "source": [
    "see it on [pythontutor](https://pythontutor.com/visualize.html#code=list_a%20%3D%20%5B1,%202,%203%5D%0Alist_b%20%3D%20%5B4,%205,%206%5D%0A%0Alist_a.append%28list_b%29%0A%0Aprint%28list_a%29%0A%0Alist_c%20%3D%20list_a%5B%3A%5D%0A%0Aprint%28list_c%29%0A%0Alist_b%5B0%5D%20%3D%201000%0A%0Aprint%28list_a%29%0A%0Aprint%28list_c%29&cumulative=false&curInstr=0&heapPrimitives=nevernest&mode=display&origin=opt-frontend.js&py=3&rawInputLstJSON=%5B%5D&textReferences=false)"
   ]
  },
  {
   "attachments": {},
   "cell_type": "markdown",
   "metadata": {},
   "source": [
    "When the *reference* to an object is copied rather than the *object itself* this is known as a ***shallow copy***."
   ]
  },
  {
   "cell_type": "code",
   "execution_count": null,
   "metadata": {},
   "outputs": [],
   "source": [
    "import copy\n",
    "\n",
    "list_a = [1, 2, 3]\n",
    "list_b = [4, 5, 6]\n",
    "\n",
    "list_a.append(list_b)\n",
    "\n",
    "list_c = copy.deepcopy(list_a)\n",
    "\n",
    "list_b[0] = 1000\n",
    "\n",
    "print(list_a)\n",
    "print(list_b)\n",
    "print(list_c)"
   ]
  },
  {
   "attachments": {},
   "cell_type": "markdown",
   "metadata": {},
   "source": [
    "see it on [pythontutor](https://pythontutor.com/visualize.html#code=import%20copy%0A%0Alist_a%20%3D%20%5B1,%202,%203%5D%0Alist_b%20%3D%20%5B4,%205,%206%5D%0A%0Alist_a.append%28list_b%29%0A%0Alist_c%20%3D%20copy.deepcopy%28list_a%29%0A%0Alist_b%5B0%5D%20%3D%201000%0A%0Aprint%28list_a%29%0Aprint%28list_b%29%0Aprint%28list_c%29&cumulative=false&curInstr=0&heapPrimitives=nevernest&mode=display&origin=opt-frontend.js&py=3&rawInputLstJSON=%5B%5D&textReferences=falseP)"
   ]
  },
  {
   "attachments": {},
   "cell_type": "markdown",
   "metadata": {},
   "source": [
    "mutable default arguments (chapter 8?)"
   ]
  },
  {
   "attachments": {},
   "cell_type": "markdown",
   "metadata": {},
   "source": [
    "## Tuples"
   ]
  },
  {
   "attachments": {},
   "cell_type": "markdown",
   "metadata": {},
   "source": [
    "Remember...\n",
    "\n",
    ">#python tip: Generally, lists are for looping; tuples for structs. Lists are homogeneous; tuples heterogeneous. Lists for variable length."
   ]
  },
  {
   "cell_type": "code",
   "execution_count": 1,
   "metadata": {},
   "outputs": [],
   "source": [
    "# people is a list of 3-tuples\n",
    "# each 3-tuple represents a person with a name, an age, and a job\n",
    "\n",
    "people = [\n",
    "    (\"Miss Mary Dennis\", 23, \"Police officer\"),\n",
    "    (\"Robert Kennedy\", 18, \"Chartered public finance accountant\"),\n",
    "    (\"Brenda Harrison\", 30, \"Publishing rights manager\"),\n",
    "    (\"Nicole Johnson\", 20, \"Horticulturist, commercial\"),\n",
    "    (\"Jennifer Coleman\", 31, \"Dentist\"),\n",
    "]"
   ]
  },
  {
   "attachments": {},
   "cell_type": "markdown",
   "metadata": {},
   "source": []
  }
 ],
 "metadata": {
  "kernelspec": {
   "display_name": ".venv",
   "language": "python",
   "name": "python3"
  },
  "language_info": {
   "codemirror_mode": {
    "name": "ipython",
    "version": 3
   },
   "file_extension": ".py",
   "mimetype": "text/x-python",
   "name": "python",
   "nbconvert_exporter": "python",
   "pygments_lexer": "ipython3",
   "version": "3.11.1"
  },
  "orig_nbformat": 4
 },
 "nbformat": 4,
 "nbformat_minor": 2
}
