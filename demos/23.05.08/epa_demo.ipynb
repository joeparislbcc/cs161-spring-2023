{
 "cells": [
  {
   "attachments": {},
   "cell_type": "markdown",
   "metadata": {},
   "source": [
    "# 7.9 Algorithm Example: U.S. EPA Automobile Milage Data\n",
    "\n",
    "Fuel economy data for model years 1984-2024 downloaded from [fueleconomy.gov](https://www.fueleconomy.gov/FEG/download.shtml) on May 5, 2023."
   ]
  },
  {
   "cell_type": "code",
   "execution_count": 8,
   "metadata": {},
   "outputs": [],
   "source": [
    "from pathlib import Path\n",
    "\n",
    "epa_file = Path.cwd().joinpath(\"demos\", \"23.05.08\", \"vehicles.csv\")"
   ]
  },
  {
   "cell_type": "code",
   "execution_count": 29,
   "metadata": {},
   "outputs": [
    {
     "name": "stdout",
     "output_type": "stream",
     "text": [
      "[(35.0, '1985', 'Alfa Romeo', 'Spider Veloce 2000'), (19.0, '1985', 'Ferrari', 'Testarossa'), (47.0, '1985', 'Dodge', 'Charger'), (16.6667, '1985', 'Dodge', 'B150/B250 Wagon 2WD'), (33.0, '1993', 'Subaru', 'Loyale'), (41.0, '1993', 'Subaru', 'Loyale'), (37.0, '1993', 'Toyota', 'Corolla'), (43.0, '1993', 'Toyota', 'Corolla'), (42.0, '1993', 'Toyota', 'Corolla'), (42.3077, '1993', 'Toyota', 'Corolla')]\n"
     ]
    }
   ],
   "source": [
    "try:\n",
    "    with epa_file.open(mode=\"r\", encoding=\"utf-8\") as epa_data:\n",
    "        next(epa_data)  # skip header\n",
    "\n",
    "        vehicles: list[tuple[float, str, str, str]] = []\n",
    "        for line_number, line in enumerate(epa_data):\n",
    "            fields = line.split(\",\")\n",
    "            try:\n",
    "                highway_milage = float(fields[60])\n",
    "            except ValueError:\n",
    "                print(f\"Invalid data in line {line_number + 1} of {epa_file.name}, skipping line.\")\n",
    "            else:\n",
    "                if highway_milage > 0:\n",
    "                    vehicles.append((highway_milage, fields[63], fields[46], fields[47]))\n",
    "except FileNotFoundError:\n",
    "    print(f\"File not found: {epa_file}\")\n",
    "else:\n",
    "    print(vehicles[:10])"
   ]
  },
  {
   "cell_type": "code",
   "execution_count": 38,
   "metadata": {},
   "outputs": [],
   "source": [
    "from operator import itemgetter\n",
    "\n",
    "min_milage = int(min(vehicles, key=itemgetter(0))[0])\n",
    "max_milage = int(max(vehicles, key=itemgetter(0))[0])\n",
    "\n",
    "max_milage_vehicles = [vehicle for vehicle in vehicles if int(vehicle[0]) == max_milage]\n",
    "min_milage_vehicles = [vehicle for vehicle in vehicles if int(vehicle[0]) == min_milage]\n",
    "\n",
    "max_milage_vehicles.sort(key=itemgetter(1, 2, 3))\n",
    "min_milage_vehicles.sort(key=itemgetter(1, 2, 3))"
   ]
  },
  {
   "cell_type": "code",
   "execution_count": 40,
   "metadata": {},
   "outputs": [
    {
     "name": "stdout",
     "output_type": "stream",
     "text": [
      "EPA Car Milage\n",
      "\n",
      "Minimum milage: 12.0, Maximum milage: 187.0\n",
      "\n",
      "Maximum Milage Vehicles:\n",
      "    2020 Tesla Model 3 Standard Range Plus\n",
      "\n",
      "Minimum Milage Vehicles:\n",
      "    1984 Rolls-Royce Silver Spur Limousine\n",
      "    1984 Rolls-Royce Silver Spur Limousine\n",
      "    1985 Aston Martin Lagonda\n",
      "    1985 Aston Martin Lagonda\n",
      "    1985 Aston Martin Saloon/Vantage/Volante\n",
      "    1985 Aston Martin Saloon/Vantage/Volante\n",
      "    1985 Rolls-Royce Silver Spur Limousine\n",
      "    1986 Rolls-Royce Silver Spur Limousine\n",
      "    1987 Rolls-Royce Camargue\n",
      "    1987 Rolls-Royce Continental\n",
      "    1987 Rolls-Royce Corniche II\n",
      "    1987 Rolls-Royce Eight/Mulsan\n",
      "    1987 Rolls-Royce Silver Spirit/Silver Spur\n",
      "    1987 Rolls-Royce Silver Spur Limousine\n"
     ]
    }
   ],
   "source": [
    "print(\"EPA Car Milage\")\n",
    "print()\n",
    "\n",
    "print(f\"Minimum milage: {min_milage:.1f}, Maximum milage: {max_milage:.1f}\")\n",
    "print()\n",
    "\n",
    "\n",
    "print(\"Maximum Milage Vehicles:\")\n",
    "for vehicle in max_milage_vehicles:\n",
    "    print(f\"    {vehicle[1]} {vehicle[2]} {vehicle[3]}\")\n",
    "print()\n",
    "print(\"Minimum Milage Vehicles:\")\n",
    "for vehicle in min_milage_vehicles:\n",
    "    print(f\"    {vehicle[1]} {vehicle[2]} {vehicle[3]}\")"
   ]
  }
 ],
 "metadata": {
  "kernelspec": {
   "display_name": ".venv",
   "language": "python",
   "name": "python3"
  },
  "language_info": {
   "codemirror_mode": {
    "name": "ipython",
    "version": 3
   },
   "file_extension": ".py",
   "mimetype": "text/x-python",
   "name": "python",
   "nbconvert_exporter": "python",
   "pygments_lexer": "ipython3",
   "version": "3.11.1"
  },
  "orig_nbformat": 4
 },
 "nbformat": 4,
 "nbformat_minor": 2
}
