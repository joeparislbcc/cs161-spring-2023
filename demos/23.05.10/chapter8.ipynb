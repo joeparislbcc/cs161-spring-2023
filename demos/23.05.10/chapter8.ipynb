{
 "cells": [
  {
   "attachments": {},
   "cell_type": "markdown",
   "metadata": {},
   "source": [
    "## The local assignment rule\n",
    "\n",
    "If an assignment is made anywhere inside a function, that assignment *creates a new name* in the current namespace."
   ]
  },
  {
   "cell_type": "code",
   "execution_count": null,
   "metadata": {},
   "outputs": [],
   "source": [
    "some_var = 27\n",
    "\n",
    "\n",
    "def some_func(param1=123, param2=\"Python\"):\n",
    "    for key, val in locals().items():\n",
    "        print(f\"key {key}: {val}\")\n",
    "    some_var = some_var + 1\n",
    "    print(some_var)\n",
    "\n",
    "\n",
    "some_func(123456, \"spam\")"
   ]
  },
  {
   "attachments": {},
   "cell_type": "markdown",
   "metadata": {},
   "source": [
    "## The `global` statement\n",
    "\n",
    "`global` allows an identifier declared in an outer namespace to be made visible in the current one."
   ]
  },
  {
   "cell_type": "code",
   "execution_count": null,
   "metadata": {},
   "outputs": [],
   "source": [
    "some_var = 27\n",
    "\n",
    "\n",
    "def some_func(param1=123, param2=\"Python\"):\n",
    "    global some_var\n",
    "    for key, val in locals().items():\n",
    "        print(f\"key {key}: {val}\")\n",
    "    some_var = some_var + 1\n",
    "    print(some_var)\n",
    "\n",
    "\n",
    "some_func(123456, \"spam\")"
   ]
  },
  {
   "attachments": {},
   "cell_type": "markdown",
   "metadata": {},
   "source": [
    "However, it is still best practice to avoid global variables. [Global Variables are Evil](https://www.cs.usfca.edu/~wolber/courses/110/lectures/globals.htm)"
   ]
  },
  {
   "attachments": {},
   "cell_type": "markdown",
   "metadata": {},
   "source": [
    "## Built-Ins"
   ]
  },
  {
   "cell_type": "code",
   "execution_count": null,
   "metadata": {},
   "outputs": [],
   "source": [
    "builtins = __builtins__.__dict__\n",
    "\n",
    "print(f\"The built-ins dictionary has {len(builtins)} entries.\")\n",
    "\n",
    "for key, val in builtins.items():\n",
    "    print(f\"key:: {key:25}, val:: {val}\")"
   ]
  },
  {
   "attachments": {},
   "cell_type": "markdown",
   "metadata": {},
   "source": [
    "## Functions as objects"
   ]
  },
  {
   "cell_type": "code",
   "execution_count": null,
   "metadata": {},
   "outputs": [],
   "source": [
    "def func_obj(param1: int = 123, param2: str = \"Python\") -> None:\n",
    "    \"\"\"Used to demo function properties.\"\"\"\n",
    "    local_var = 42\n",
    "    print(f\"param1={param1}, param2={param2}, local_var={local_var}\")"
   ]
  },
  {
   "cell_type": "code",
   "execution_count": null,
   "metadata": {},
   "outputs": [],
   "source": [
    "print(func_obj.__name__)\n",
    "print(func_obj.__annotations__)\n",
    "print(func_obj.__str__)\n",
    "print(func_obj.__doc__)\n",
    "print(func_obj.__class__)\n",
    "print(func_obj.__dir__)"
   ]
  },
  {
   "cell_type": "code",
   "execution_count": null,
   "metadata": {},
   "outputs": [],
   "source": [
    "dir(func_obj)"
   ]
  },
  {
   "cell_type": "code",
   "execution_count": null,
   "metadata": {},
   "outputs": [],
   "source": [
    "help(func_obj)"
   ]
  }
 ],
 "metadata": {
  "kernelspec": {
   "display_name": ".venv",
   "language": "python",
   "name": "python3"
  },
  "language_info": {
   "codemirror_mode": {
    "name": "ipython",
    "version": 3
   },
   "file_extension": ".py",
   "mimetype": "text/x-python",
   "name": "python",
   "nbconvert_exporter": "python",
   "pygments_lexer": "ipython3",
   "version": "3.11.1"
  },
  "orig_nbformat": 4
 },
 "nbformat": 4,
 "nbformat_minor": 2
}
