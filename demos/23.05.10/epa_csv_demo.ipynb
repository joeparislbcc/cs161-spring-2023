{
 "cells": [
  {
   "attachments": {},
   "cell_type": "markdown",
   "metadata": {},
   "source": [
    "# 7.9.1 `csv` Module\n",
    "\n",
    "Python's `csv` module is very useful when dealing with CSV files, making working with them *much* easier."
   ]
  },
  {
   "cell_type": "code",
   "execution_count": 1,
   "metadata": {},
   "outputs": [],
   "source": [
    "import csv\n",
    "from pathlib import Path\n",
    "\n",
    "epa_file = Path.cwd().joinpath(\"demos\", \"23.05.10\", \"vehicles.csv\")\n",
    "\n",
    "try:\n",
    "    with epa_file.open(mode=\"r\", encoding=\"utf-8\") as epa_data:\n",
    "        vehicles: list[tuple[float, str, str, str]] = []\n",
    "\n",
    "        reader = csv.DictReader(epa_data)\n",
    "\n",
    "        for row in reader:\n",
    "            highway_milage = float(row[\"UHighway\"])\n",
    "            if highway_milage > 0:\n",
    "                vehicles.append((highway_milage, row[\"year\"], row[\"make\"], row[\"model\"]))\n",
    "except FileNotFoundError:\n",
    "    print(f\"File not found: {epa_file}\")"
   ]
  },
  {
   "cell_type": "code",
   "execution_count": null,
   "metadata": {},
   "outputs": [],
   "source": []
  }
 ],
 "metadata": {
  "kernelspec": {
   "display_name": ".venv",
   "language": "python",
   "name": "python3"
  },
  "language_info": {
   "codemirror_mode": {
    "name": "ipython",
    "version": 3
   },
   "file_extension": ".py",
   "mimetype": "text/x-python",
   "name": "python",
   "nbconvert_exporter": "python",
   "pygments_lexer": "ipython3",
   "version": "3.11.1"
  },
  "orig_nbformat": 4
 },
 "nbformat": 4,
 "nbformat_minor": 2
}
