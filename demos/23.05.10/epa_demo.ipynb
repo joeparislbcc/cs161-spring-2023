{
 "cells": [
  {
   "attachments": {},
   "cell_type": "markdown",
   "metadata": {},
   "source": [
    "# 7.9 Algorithm Example: U.S. EPA Automobile Milage Data\n",
    "\n",
    "Fuel economy data for model years 1984-2024 downloaded from [fueleconomy.gov](https://www.fueleconomy.gov/FEG/download.shtml) on May 5, 2023."
   ]
  },
  {
   "cell_type": "code",
   "execution_count": null,
   "metadata": {},
   "outputs": [],
   "source": [
    "from pathlib import Path\n",
    "\n",
    "epa_file = Path.cwd().joinpath(\"demos\", \"23.05.08\", \"vehicles.csv\")"
   ]
  },
  {
   "cell_type": "code",
   "execution_count": null,
   "metadata": {},
   "outputs": [],
   "source": [
    "try:\n",
    "    with epa_file.open(mode=\"r\", encoding=\"utf-8\") as epa_data:\n",
    "        next(epa_data)  # skip header\n",
    "\n",
    "        vehicles: list[tuple[float, str, str, str]] = []\n",
    "        for line_number, line in enumerate(epa_data):\n",
    "            fields = line.split(\",\")\n",
    "            try:\n",
    "                highway_milage = float(fields[60])\n",
    "            except ValueError:\n",
    "                print(f\"Invalid data in line {line_number + 1} of {epa_file.name}, skipping line.\")\n",
    "            else:\n",
    "                if highway_milage > 0:\n",
    "                    vehicles.append((highway_milage, fields[63], fields[46], fields[47]))\n",
    "except FileNotFoundError:\n",
    "    print(f\"File not found: {epa_file}\")"
   ]
  },
  {
   "cell_type": "code",
   "execution_count": null,
   "metadata": {},
   "outputs": [],
   "source": [
    "from operator import itemgetter\n",
    "\n",
    "min_milage = int(min(vehicles, key=itemgetter(0))[0])\n",
    "max_milage = int(max(vehicles, key=itemgetter(0))[0])\n",
    "\n",
    "max_milage_vehicles = [vehicle for vehicle in vehicles if int(vehicle[0]) == max_milage]\n",
    "min_milage_vehicles = [vehicle for vehicle in vehicles if int(vehicle[0]) == min_milage]\n",
    "\n",
    "max_milage_vehicles.sort(key=itemgetter(1, 2, 3))\n",
    "min_milage_vehicles.sort(key=itemgetter(1, 2, 3))"
   ]
  },
  {
   "cell_type": "code",
   "execution_count": null,
   "metadata": {},
   "outputs": [],
   "source": [
    "print(\"EPA Car Milage\")\n",
    "print()\n",
    "\n",
    "print(f\"Minimum milage: {min_milage:.1f}, Maximum milage: {max_milage:.1f}\")\n",
    "print()\n",
    "\n",
    "\n",
    "print(\"Maximum Milage Vehicles:\")\n",
    "for vehicle in max_milage_vehicles:\n",
    "    print(f\"    {vehicle[1]} {vehicle[2]} {vehicle[3]}\")\n",
    "print()\n",
    "print(\"Minimum Milage Vehicles:\")\n",
    "for vehicle in min_milage_vehicles:\n",
    "    print(f\"    {vehicle[1]} {vehicle[2]} {vehicle[3]}\")"
   ]
  }
 ],
 "metadata": {
  "kernelspec": {
   "display_name": ".venv",
   "language": "python",
   "name": "python3"
  },
  "language_info": {
   "codemirror_mode": {
    "name": "ipython",
    "version": 3
   },
   "file_extension": ".py",
   "mimetype": "text/x-python",
   "name": "python",
   "nbconvert_exporter": "python",
   "pygments_lexer": "ipython3",
   "version": "3.11.1"
  },
  "orig_nbformat": 4
 },
 "nbformat": 4,
 "nbformat_minor": 2
}
