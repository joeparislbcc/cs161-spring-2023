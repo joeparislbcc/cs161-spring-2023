{
 "cells": [
  {
   "attachments": {},
   "cell_type": "markdown",
   "metadata": {},
   "source": [
    "Python `Lists` are a *sequence* data type meaning they can hold multiple values called \"elements\" under a single variable name.\n",
    "\n",
    "* lists are ordered\n",
    "* elements are accessed via an index\n",
    "* indices start at 0\n",
    "* you can slice lists like you do strings\n",
    "* lists are iterable \n",
    "* lists are mutable"
   ]
  },
  {
   "cell_type": "code",
   "execution_count": 8,
   "metadata": {},
   "outputs": [
    {
     "name": "stdout",
     "output_type": "stream",
     "text": [
      "[1, 2, 3, 4, 5]\n",
      "3\n",
      "[2, 3]\n",
      "5\n",
      "[1, 2, 37, 4, 5]\n"
     ]
    }
   ],
   "source": [
    "my_list = [1, 2, 3, 4, 5]\n",
    "\n",
    "print(my_list)\n",
    "print(my_list[2])\n",
    "print(my_list[1:3])\n",
    "print(my_list[-1])\n",
    "my_list[2] = 37\n",
    "print(my_list)"
   ]
  },
  {
   "attachments": {},
   "cell_type": "markdown",
   "metadata": {},
   "source": [
    "Python `Tuples` are a *sequence* data type meaning they can hold multiple values called \"elements\" under a single variable name.\n",
    "\n",
    "* tuples are ordered\n",
    "* elements are accessed via an index\n",
    "* indices start at 0\n",
    "* you can slice tuples like you do strings\n",
    "* tuples are iterable \n",
    "* tuples are immutable"
   ]
  },
  {
   "cell_type": "code",
   "execution_count": 10,
   "metadata": {},
   "outputs": [
    {
     "name": "stdout",
     "output_type": "stream",
     "text": [
      "(1, 2, 3, 4, 5)\n",
      "3\n",
      "(2, 3)\n",
      "5\n"
     ]
    },
    {
     "ename": "TypeError",
     "evalue": "'tuple' object does not support item assignment",
     "output_type": "error",
     "traceback": [
      "\u001b[0;31m---------------------------------------------------------------------------\u001b[0m",
      "\u001b[0;31mTypeError\u001b[0m                                 Traceback (most recent call last)",
      "Cell \u001b[0;32mIn[10], line 7\u001b[0m\n\u001b[1;32m      5\u001b[0m \u001b[39mprint\u001b[39m(my_list[\u001b[39m1\u001b[39m:\u001b[39m3\u001b[39m])\n\u001b[1;32m      6\u001b[0m \u001b[39mprint\u001b[39m(my_list[\u001b[39m-\u001b[39m\u001b[39m1\u001b[39m])\n\u001b[0;32m----> 7\u001b[0m my_list[\u001b[39m2\u001b[39;49m] \u001b[39m=\u001b[39m \u001b[39m37\u001b[39m\n\u001b[1;32m      8\u001b[0m \u001b[39mprint\u001b[39m(my_list)\n",
      "\u001b[0;31mTypeError\u001b[0m: 'tuple' object does not support item assignment"
     ]
    }
   ],
   "source": [
    "my_list = (1, 2, 3, 4, 5)\n",
    "\n",
    "print(my_list)\n",
    "print(my_list[2])\n",
    "print(my_list[1:3])\n",
    "print(my_list[-1])\n",
    "my_list[2] = 37\n",
    "print(my_list)"
   ]
  },
  {
   "cell_type": "code",
   "execution_count": 14,
   "metadata": {},
   "outputs": [
    {
     "name": "stdout",
     "output_type": "stream",
     "text": [
      "(['Joe', 'Sarah'], ['Dave', 'Buster'])\n",
      "['Joe', 'Sarah']\n",
      "(['Mike', 'Sarah'], ['Dave', 'Buster'])\n"
     ]
    }
   ],
   "source": [
    "names = ([\"Joe\", \"Sarah\"], [\"Dave\", \"Buster\"])\n",
    "print(names)\n",
    "print(names[0])\n",
    "names[0][0] = \"Mike\"\n",
    "print(names)"
   ]
  },
  {
   "cell_type": "code",
   "execution_count": null,
   "metadata": {},
   "outputs": [],
   "source": []
  }
 ],
 "metadata": {
  "kernelspec": {
   "display_name": ".venv",
   "language": "python",
   "name": "python3"
  },
  "language_info": {
   "codemirror_mode": {
    "name": "ipython",
    "version": 3
   },
   "file_extension": ".py",
   "mimetype": "text/x-python",
   "name": "python",
   "nbconvert_exporter": "python",
   "pygments_lexer": "ipython3",
   "version": "3.11.1"
  },
  "orig_nbformat": 4
 },
 "nbformat": 4,
 "nbformat_minor": 2
}
