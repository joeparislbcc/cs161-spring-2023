{
 "cells": [
  {
   "attachments": {},
   "cell_type": "markdown",
   "metadata": {},
   "source": [
    "## Working With Files\n",
    "\n",
    "### Accessing Files: Reading Text Files\n",
    "\n",
    "Opening a text file in a Jupyter Notebook takes a little extra work. First, using Python's `pathlib` module we create a `Path` object. `Path` objects can represent a filesystem path and provide many handy methods for working with them. The `cwd()` method gets the *current working directory*. On my system, that will be the CS161 directory that I created to hold all the demo files, etc. for this class. From there, we can use the `/` operator to navigate down into sub-directories until we get to the file we want. The complete path, on my system, is `/home/joe/lbcc/cs161/demos/23.04.26/fellowship.txt`.\n",
    "\n",
    "Fortunately, it's usually easier to get to files from inside a Python script file as shown in `demo1.py`."
   ]
  },
  {
   "cell_type": "code",
   "execution_count": null,
   "metadata": {},
   "outputs": [],
   "source": [
    "from pathlib import Path\n",
    "file = Path.cwd() / \"demos\" / \"23.04.26\" / \"fellowship.txt\"\n",
    "print(str(file))\n",
    "\n",
    "roster = open(file, \"r\")"
   ]
  },
  {
   "cell_type": "code",
   "execution_count": 13,
   "metadata": {},
   "outputs": [],
   "source": []
  }
 ],
 "metadata": {
  "kernelspec": {
   "display_name": ".venv",
   "language": "python",
   "name": "python3"
  },
  "language_info": {
   "codemirror_mode": {
    "name": "ipython",
    "version": 3
   },
   "file_extension": ".py",
   "mimetype": "text/x-python",
   "name": "python",
   "nbconvert_exporter": "python",
   "pygments_lexer": "ipython3",
   "version": "3.11.1"
  },
  "orig_nbformat": 4
 },
 "nbformat": 4,
 "nbformat_minor": 2
}
