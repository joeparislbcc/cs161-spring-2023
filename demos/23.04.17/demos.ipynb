{
 "cells": [
  {
   "cell_type": "code",
   "execution_count": 10,
   "metadata": {},
   "outputs": [
    {
     "name": "stdout",
     "output_type": "stream",
     "text": [
      "   1   2   3   4   5   6   7   8   9  10  11  12\n",
      "   2   4   6   8  10  12  14  16  18  20  22  24\n",
      "   3   6   9  12  15  18  21  24  27  30  33  36\n",
      "   4   8  12  16  20  24  28  32  36  40  44  48\n",
      "   5  10  15  20  25  30  35  40  45  50  55  60\n",
      "   6  12  18  24  30  36  42  48  54  60  66  72\n",
      "   7  14  21  28  35  42  49  56  63  70  77  84\n",
      "   8  16  24  32  40  48  56  64  72  80  88  96\n",
      "   9  18  27  36  45  54  63  72  81  90  99 108\n",
      "  10  20  30  40  50  60  70  80  90 100 110 120\n",
      "  11  22  33  44  55  66  77  88  99 110 121 132\n",
      "  12  24  36  48  60  72  84  96 108 120 132 144\n"
     ]
    }
   ],
   "source": [
    "for col in range(1, 13):\n",
    "    for row in range(1, 13):\n",
    "        print(f\"{col * row:>4}\", end=\"\")\n",
    "    print()"
   ]
  },
  {
   "cell_type": "code",
   "execution_count": 31,
   "metadata": {},
   "outputs": [
    {
     "name": "stdout",
     "output_type": "stream",
     "text": [
      "       1   2   3   4   5   6   7   8   9  10  11  12\n",
      "-----------------------------------------------------\n",
      " 1 |   1   2   3   4   5   6   7   8   9  10  11  12\n",
      " 2 |   2   4   6   8  10  12  14  16  18  20  22  24\n",
      " 3 |   3   6   9  12  15  18  21  24  27  30  33  36\n",
      " 4 |   4   8  12  16  20  24  28  32  36  40  44  48\n",
      " 5 |   5  10  15  20  25  30  35  40  45  50  55  60\n",
      " 6 |   6  12  18  24  30  36  42  48  54  60  66  72\n",
      " 7 |   7  14  21  28  35  42  49  56  63  70  77  84\n",
      " 8 |   8  16  24  32  40  48  56  64  72  80  88  96\n",
      " 9 |   9  18  27  36  45  54  63  72  81  90  99 108\n",
      "10 |  10  20  30  40  50  60  70  80  90 100 110 120\n",
      "11 |  11  22  33  44  55  66  77  88  99 110 121 132\n",
      "12 |  12  24  36  48  60  72  84  96 108 120 132 144\n"
     ]
    }
   ],
   "source": [
    "LIMIT = 12\n",
    "COL_WIDTH = 4\n",
    "\n",
    "def get_row_header():\n",
    "    header = 1\n",
    "    while header <= LIMIT:\n",
    "        yield header\n",
    "        header += 1\n",
    "\n",
    "col_headers = range(1, LIMIT + 1)\n",
    "print(\" \"*COL_WIDTH, end=\"\")\n",
    "for header in col_headers:\n",
    "    print(f\"{header:>4}\", end=\"\")\n",
    "print()\n",
    "print(\"-\"*(4*LIMIT+COL_WIDTH+1))\n",
    "\n",
    "rh = get_row_header()\n",
    "\n",
    "for col in range(1, 13):\n",
    "    print(f\"{next(rh):>2} |\", end=\"\")\n",
    "    for row in range(1, 13):\n",
    "        print(f\"{col * row:>4}\", end=\"\")\n",
    "    print()"
   ]
  },
  {
   "cell_type": "code",
   "execution_count": null,
   "metadata": {},
   "outputs": [],
   "source": []
  }
 ],
 "metadata": {
  "kernelspec": {
   "display_name": ".venv",
   "language": "python",
   "name": "python3"
  },
  "language_info": {
   "codemirror_mode": {
    "name": "ipython",
    "version": 3
   },
   "file_extension": ".py",
   "mimetype": "text/x-python",
   "name": "python",
   "nbconvert_exporter": "python",
   "pygments_lexer": "ipython3",
   "version": "3.11.1"
  },
  "orig_nbformat": 4
 },
 "nbformat": 4,
 "nbformat_minor": 2
}
