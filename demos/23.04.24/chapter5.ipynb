{
 "cells": [
  {
   "attachments": {},
   "cell_type": "markdown",
   "metadata": {},
   "source": [
    "### Python Functions\n",
    "\n",
    "There are two parts to a Python function:\n",
    "\n",
    "- definition\n",
    "- invocation"
   ]
  },
  {
   "cell_type": "code",
   "execution_count": null,
   "metadata": {},
   "outputs": [],
   "source": [
    "def fahrenheit_to_celsius(fahrenheit: float) -> float:  # function definition\n",
    "    return (fahrenheit - 32) * (5/9)\n",
    "\n",
    "def celsius_to_fahrenheit(celsius: float) -> float:  # function definition\n",
    "    return celsius * 1.8 + 32\n",
    "\n",
    "def celsius_to_kelvin(celsius: float) -> float:  # function definition\n",
    "    return celsius - 273.15"
   ]
  },
  {
   "cell_type": "code",
   "execution_count": null,
   "metadata": {},
   "outputs": [],
   "source": [
    "temp_f = 52.0\n",
    "temp_c = fahrenheit_to_celsius(temp_f)  # function invocation\n",
    "\n",
    "print(f\"{temp_f:.1f}\\u00B0 Fahrenheit is {temp_c:.1f}\\u00B0 Celsius.\")"
   ]
  },
  {
   "attachments": {},
   "cell_type": "markdown",
   "metadata": {},
   "source": [
    "### Area of a Triangle\n",
    "\n",
    "Let's consider the following problem:\n",
    "\n",
    "> Given three vertices of a triangle, calculate it's area.\n",
    "\n",
    "First, we begin by exploring some mathematics to get the formulas we need. The classic formula for calculating the area of a triangle given the length of three sides $a, b,$ and $c$ is Heron's formula:\n",
    "\n",
    "$$ s = {1 \\over 2} (a + b + c) $$\n",
    "\n",
    "$$ area = \\sqrt{s(s-a)(s-b)(s-c)} $$\n",
    "\n",
    "If we begin with vertices, we need to find the length of each side using the Euclidean distance formula which tells us that the shortest distance between two points $(x_{1}, y_{1})$ and $(x_{2}, y_{2})$ is:\n",
    "\n",
    "$$ length = \\sqrt{(x_{1}-x_{2})^{2} + (y_{1}-y_{2})^{2}} $$\n",
    "\n",
    "With these mathematical formulas in hand, we can consider how to solve the problem taking a divide-and-conquer approach.\n",
    "\n",
    "We can break the problem down into these steps:\n",
    "\n",
    "1. ...\n",
    "1. ...\n",
    "1. ...\n"
   ]
  },
  {
   "attachments": {},
   "cell_type": "markdown",
   "metadata": {},
   "source": [
    "### What If There Is No Return Statement?"
   ]
  },
  {
   "cell_type": "code",
   "execution_count": null,
   "metadata": {},
   "outputs": [],
   "source": [
    "def no_return_statement(name: str) -> None:\n",
    "    print(f\"Hello, {name}!\")\n",
    "\n",
    "return_value = no_return_statement(\"Markus\")\n",
    "\n",
    "print(return_value)"
   ]
  },
  {
   "attachments": {},
   "cell_type": "markdown",
   "metadata": {},
   "source": [
    "### What If There Are Multiple Return Statements?"
   ]
  },
  {
   "cell_type": "code",
   "execution_count": null,
   "metadata": {},
   "outputs": [],
   "source": [
    "def postive_negative_zero(number: int) -> str:\n",
    "    if number > 0:\n",
    "        return \"positive\"\n",
    "    elif number < 0:\n",
    "        return \"negative\"\n",
    "    else:\n",
    "        return \"zero\""
   ]
  },
  {
   "cell_type": "code",
   "execution_count": null,
   "metadata": {},
   "outputs": [],
   "source": []
  }
 ],
 "metadata": {
  "kernelspec": {
   "display_name": ".venv",
   "language": "python",
   "name": "python3"
  },
  "language_info": {
   "codemirror_mode": {
    "name": "ipython",
    "version": 3
   },
   "file_extension": ".py",
   "mimetype": "text/x-python",
   "name": "python",
   "nbconvert_exporter": "python",
   "pygments_lexer": "ipython3",
   "version": "3.11.1"
  },
  "orig_nbformat": 4
 },
 "nbformat": 4,
 "nbformat_minor": 2
}
